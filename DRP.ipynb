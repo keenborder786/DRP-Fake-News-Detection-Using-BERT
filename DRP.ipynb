{
  "nbformat": 4,
  "nbformat_minor": 0,
  "metadata": {
    "kernelspec": {
      "name": "python3",
      "display_name": "Python 3"
    },
    "language_info": {
      "codemirror_mode": {
        "name": "ipython",
        "version": 3
      },
      "file_extension": ".py",
      "mimetype": "text/x-python",
      "name": "python",
      "nbconvert_exporter": "python",
      "pygments_lexer": "ipython3",
      "version": "3.7.1"
    },
    "colab": {
      "name": "DRP.ipynb",
      "provenance": [],
      "collapsed_sections": [],
      "toc_visible": true,
      "machine_shape": "hm"
    },
    "accelerator": "GPU",
    "widgets": {
      "application/vnd.jupyter.widget-state+json": {
        "b70c00fd1c0e45f39a46c136e4272297": {
          "model_module": "@jupyter-widgets/controls",
          "model_name": "HBoxModel",
          "state": {
            "_view_name": "HBoxView",
            "_dom_classes": [],
            "_model_name": "HBoxModel",
            "_view_module": "@jupyter-widgets/controls",
            "_model_module_version": "1.5.0",
            "_view_count": null,
            "_view_module_version": "1.5.0",
            "box_style": "",
            "layout": "IPY_MODEL_6e7c58bd54fe42b68d5248094e831a21",
            "_model_module": "@jupyter-widgets/controls",
            "children": [
              "IPY_MODEL_08fcf49f16074c4ead49cc9e24b305ba",
              "IPY_MODEL_cbfe1742436243d9aeda133dcea400f0"
            ]
          }
        },
        "6e7c58bd54fe42b68d5248094e831a21": {
          "model_module": "@jupyter-widgets/base",
          "model_name": "LayoutModel",
          "state": {
            "_view_name": "LayoutView",
            "grid_template_rows": null,
            "right": null,
            "justify_content": null,
            "_view_module": "@jupyter-widgets/base",
            "overflow": null,
            "_model_module_version": "1.2.0",
            "_view_count": null,
            "flex_flow": null,
            "width": null,
            "min_width": null,
            "border": null,
            "align_items": null,
            "bottom": null,
            "_model_module": "@jupyter-widgets/base",
            "top": null,
            "grid_column": null,
            "overflow_y": null,
            "overflow_x": null,
            "grid_auto_flow": null,
            "grid_area": null,
            "grid_template_columns": null,
            "flex": null,
            "_model_name": "LayoutModel",
            "justify_items": null,
            "grid_row": null,
            "max_height": null,
            "align_content": null,
            "visibility": null,
            "align_self": null,
            "height": null,
            "min_height": null,
            "padding": null,
            "grid_auto_rows": null,
            "grid_gap": null,
            "max_width": null,
            "order": null,
            "_view_module_version": "1.2.0",
            "grid_template_areas": null,
            "object_position": null,
            "object_fit": null,
            "grid_auto_columns": null,
            "margin": null,
            "display": null,
            "left": null
          }
        },
        "08fcf49f16074c4ead49cc9e24b305ba": {
          "model_module": "@jupyter-widgets/controls",
          "model_name": "IntProgressModel",
          "state": {
            "_view_name": "ProgressView",
            "style": "IPY_MODEL_ee04a3eed2e44c0ca41911ea70aa02a6",
            "_dom_classes": [],
            "description": "Downloading: 100%",
            "_model_name": "IntProgressModel",
            "bar_style": "success",
            "max": 231508,
            "_view_module": "@jupyter-widgets/controls",
            "_model_module_version": "1.5.0",
            "value": 231508,
            "_view_count": null,
            "_view_module_version": "1.5.0",
            "orientation": "horizontal",
            "min": 0,
            "description_tooltip": null,
            "_model_module": "@jupyter-widgets/controls",
            "layout": "IPY_MODEL_155b9ab343684b1294f7eddc25dc0f6a"
          }
        },
        "cbfe1742436243d9aeda133dcea400f0": {
          "model_module": "@jupyter-widgets/controls",
          "model_name": "HTMLModel",
          "state": {
            "_view_name": "HTMLView",
            "style": "IPY_MODEL_885f425ef9a14698acf9b07e943aca5f",
            "_dom_classes": [],
            "description": "",
            "_model_name": "HTMLModel",
            "placeholder": "​",
            "_view_module": "@jupyter-widgets/controls",
            "_model_module_version": "1.5.0",
            "value": " 232k/232k [00:00&lt;00:00, 1.98MB/s]",
            "_view_count": null,
            "_view_module_version": "1.5.0",
            "description_tooltip": null,
            "_model_module": "@jupyter-widgets/controls",
            "layout": "IPY_MODEL_beb87c9a9853438d876252b4ad107aaa"
          }
        },
        "ee04a3eed2e44c0ca41911ea70aa02a6": {
          "model_module": "@jupyter-widgets/controls",
          "model_name": "ProgressStyleModel",
          "state": {
            "_view_name": "StyleView",
            "_model_name": "ProgressStyleModel",
            "description_width": "initial",
            "_view_module": "@jupyter-widgets/base",
            "_model_module_version": "1.5.0",
            "_view_count": null,
            "_view_module_version": "1.2.0",
            "bar_color": null,
            "_model_module": "@jupyter-widgets/controls"
          }
        },
        "155b9ab343684b1294f7eddc25dc0f6a": {
          "model_module": "@jupyter-widgets/base",
          "model_name": "LayoutModel",
          "state": {
            "_view_name": "LayoutView",
            "grid_template_rows": null,
            "right": null,
            "justify_content": null,
            "_view_module": "@jupyter-widgets/base",
            "overflow": null,
            "_model_module_version": "1.2.0",
            "_view_count": null,
            "flex_flow": null,
            "width": null,
            "min_width": null,
            "border": null,
            "align_items": null,
            "bottom": null,
            "_model_module": "@jupyter-widgets/base",
            "top": null,
            "grid_column": null,
            "overflow_y": null,
            "overflow_x": null,
            "grid_auto_flow": null,
            "grid_area": null,
            "grid_template_columns": null,
            "flex": null,
            "_model_name": "LayoutModel",
            "justify_items": null,
            "grid_row": null,
            "max_height": null,
            "align_content": null,
            "visibility": null,
            "align_self": null,
            "height": null,
            "min_height": null,
            "padding": null,
            "grid_auto_rows": null,
            "grid_gap": null,
            "max_width": null,
            "order": null,
            "_view_module_version": "1.2.0",
            "grid_template_areas": null,
            "object_position": null,
            "object_fit": null,
            "grid_auto_columns": null,
            "margin": null,
            "display": null,
            "left": null
          }
        },
        "885f425ef9a14698acf9b07e943aca5f": {
          "model_module": "@jupyter-widgets/controls",
          "model_name": "DescriptionStyleModel",
          "state": {
            "_view_name": "StyleView",
            "_model_name": "DescriptionStyleModel",
            "description_width": "",
            "_view_module": "@jupyter-widgets/base",
            "_model_module_version": "1.5.0",
            "_view_count": null,
            "_view_module_version": "1.2.0",
            "_model_module": "@jupyter-widgets/controls"
          }
        },
        "beb87c9a9853438d876252b4ad107aaa": {
          "model_module": "@jupyter-widgets/base",
          "model_name": "LayoutModel",
          "state": {
            "_view_name": "LayoutView",
            "grid_template_rows": null,
            "right": null,
            "justify_content": null,
            "_view_module": "@jupyter-widgets/base",
            "overflow": null,
            "_model_module_version": "1.2.0",
            "_view_count": null,
            "flex_flow": null,
            "width": null,
            "min_width": null,
            "border": null,
            "align_items": null,
            "bottom": null,
            "_model_module": "@jupyter-widgets/base",
            "top": null,
            "grid_column": null,
            "overflow_y": null,
            "overflow_x": null,
            "grid_auto_flow": null,
            "grid_area": null,
            "grid_template_columns": null,
            "flex": null,
            "_model_name": "LayoutModel",
            "justify_items": null,
            "grid_row": null,
            "max_height": null,
            "align_content": null,
            "visibility": null,
            "align_self": null,
            "height": null,
            "min_height": null,
            "padding": null,
            "grid_auto_rows": null,
            "grid_gap": null,
            "max_width": null,
            "order": null,
            "_view_module_version": "1.2.0",
            "grid_template_areas": null,
            "object_position": null,
            "object_fit": null,
            "grid_auto_columns": null,
            "margin": null,
            "display": null,
            "left": null
          }
        },
        "c4ea73acaabf4511a406511d2d3232fe": {
          "model_module": "@jupyter-widgets/controls",
          "model_name": "HBoxModel",
          "state": {
            "_view_name": "HBoxView",
            "_dom_classes": [],
            "_model_name": "HBoxModel",
            "_view_module": "@jupyter-widgets/controls",
            "_model_module_version": "1.5.0",
            "_view_count": null,
            "_view_module_version": "1.5.0",
            "box_style": "",
            "layout": "IPY_MODEL_dc7037896f3c41d0877374bcf7950606",
            "_model_module": "@jupyter-widgets/controls",
            "children": [
              "IPY_MODEL_810671c36ef440ef80194700b21d6418",
              "IPY_MODEL_7eaa8d9f5a784f8994d65df18a011985"
            ]
          }
        },
        "dc7037896f3c41d0877374bcf7950606": {
          "model_module": "@jupyter-widgets/base",
          "model_name": "LayoutModel",
          "state": {
            "_view_name": "LayoutView",
            "grid_template_rows": null,
            "right": null,
            "justify_content": null,
            "_view_module": "@jupyter-widgets/base",
            "overflow": null,
            "_model_module_version": "1.2.0",
            "_view_count": null,
            "flex_flow": null,
            "width": null,
            "min_width": null,
            "border": null,
            "align_items": null,
            "bottom": null,
            "_model_module": "@jupyter-widgets/base",
            "top": null,
            "grid_column": null,
            "overflow_y": null,
            "overflow_x": null,
            "grid_auto_flow": null,
            "grid_area": null,
            "grid_template_columns": null,
            "flex": null,
            "_model_name": "LayoutModel",
            "justify_items": null,
            "grid_row": null,
            "max_height": null,
            "align_content": null,
            "visibility": null,
            "align_self": null,
            "height": null,
            "min_height": null,
            "padding": null,
            "grid_auto_rows": null,
            "grid_gap": null,
            "max_width": null,
            "order": null,
            "_view_module_version": "1.2.0",
            "grid_template_areas": null,
            "object_position": null,
            "object_fit": null,
            "grid_auto_columns": null,
            "margin": null,
            "display": null,
            "left": null
          }
        },
        "810671c36ef440ef80194700b21d6418": {
          "model_module": "@jupyter-widgets/controls",
          "model_name": "IntProgressModel",
          "state": {
            "_view_name": "ProgressView",
            "style": "IPY_MODEL_c44c0fa668fe4bd8aaa259cc338c06af",
            "_dom_classes": [],
            "description": "Downloading: 100%",
            "_model_name": "IntProgressModel",
            "bar_style": "success",
            "max": 361,
            "_view_module": "@jupyter-widgets/controls",
            "_model_module_version": "1.5.0",
            "value": 361,
            "_view_count": null,
            "_view_module_version": "1.5.0",
            "orientation": "horizontal",
            "min": 0,
            "description_tooltip": null,
            "_model_module": "@jupyter-widgets/controls",
            "layout": "IPY_MODEL_8c69805da4ca4a728a8e754052c46cfd"
          }
        },
        "7eaa8d9f5a784f8994d65df18a011985": {
          "model_module": "@jupyter-widgets/controls",
          "model_name": "HTMLModel",
          "state": {
            "_view_name": "HTMLView",
            "style": "IPY_MODEL_9a39456913b74d9eb5831a60cdcedd8a",
            "_dom_classes": [],
            "description": "",
            "_model_name": "HTMLModel",
            "placeholder": "​",
            "_view_module": "@jupyter-widgets/controls",
            "_model_module_version": "1.5.0",
            "value": " 361/361 [00:00&lt;00:00, 1.00kB/s]",
            "_view_count": null,
            "_view_module_version": "1.5.0",
            "description_tooltip": null,
            "_model_module": "@jupyter-widgets/controls",
            "layout": "IPY_MODEL_3d8668b9e6614d67b31f7f743634ee0d"
          }
        },
        "c44c0fa668fe4bd8aaa259cc338c06af": {
          "model_module": "@jupyter-widgets/controls",
          "model_name": "ProgressStyleModel",
          "state": {
            "_view_name": "StyleView",
            "_model_name": "ProgressStyleModel",
            "description_width": "initial",
            "_view_module": "@jupyter-widgets/base",
            "_model_module_version": "1.5.0",
            "_view_count": null,
            "_view_module_version": "1.2.0",
            "bar_color": null,
            "_model_module": "@jupyter-widgets/controls"
          }
        },
        "8c69805da4ca4a728a8e754052c46cfd": {
          "model_module": "@jupyter-widgets/base",
          "model_name": "LayoutModel",
          "state": {
            "_view_name": "LayoutView",
            "grid_template_rows": null,
            "right": null,
            "justify_content": null,
            "_view_module": "@jupyter-widgets/base",
            "overflow": null,
            "_model_module_version": "1.2.0",
            "_view_count": null,
            "flex_flow": null,
            "width": null,
            "min_width": null,
            "border": null,
            "align_items": null,
            "bottom": null,
            "_model_module": "@jupyter-widgets/base",
            "top": null,
            "grid_column": null,
            "overflow_y": null,
            "overflow_x": null,
            "grid_auto_flow": null,
            "grid_area": null,
            "grid_template_columns": null,
            "flex": null,
            "_model_name": "LayoutModel",
            "justify_items": null,
            "grid_row": null,
            "max_height": null,
            "align_content": null,
            "visibility": null,
            "align_self": null,
            "height": null,
            "min_height": null,
            "padding": null,
            "grid_auto_rows": null,
            "grid_gap": null,
            "max_width": null,
            "order": null,
            "_view_module_version": "1.2.0",
            "grid_template_areas": null,
            "object_position": null,
            "object_fit": null,
            "grid_auto_columns": null,
            "margin": null,
            "display": null,
            "left": null
          }
        },
        "9a39456913b74d9eb5831a60cdcedd8a": {
          "model_module": "@jupyter-widgets/controls",
          "model_name": "DescriptionStyleModel",
          "state": {
            "_view_name": "StyleView",
            "_model_name": "DescriptionStyleModel",
            "description_width": "",
            "_view_module": "@jupyter-widgets/base",
            "_model_module_version": "1.5.0",
            "_view_count": null,
            "_view_module_version": "1.2.0",
            "_model_module": "@jupyter-widgets/controls"
          }
        },
        "3d8668b9e6614d67b31f7f743634ee0d": {
          "model_module": "@jupyter-widgets/base",
          "model_name": "LayoutModel",
          "state": {
            "_view_name": "LayoutView",
            "grid_template_rows": null,
            "right": null,
            "justify_content": null,
            "_view_module": "@jupyter-widgets/base",
            "overflow": null,
            "_model_module_version": "1.2.0",
            "_view_count": null,
            "flex_flow": null,
            "width": null,
            "min_width": null,
            "border": null,
            "align_items": null,
            "bottom": null,
            "_model_module": "@jupyter-widgets/base",
            "top": null,
            "grid_column": null,
            "overflow_y": null,
            "overflow_x": null,
            "grid_auto_flow": null,
            "grid_area": null,
            "grid_template_columns": null,
            "flex": null,
            "_model_name": "LayoutModel",
            "justify_items": null,
            "grid_row": null,
            "max_height": null,
            "align_content": null,
            "visibility": null,
            "align_self": null,
            "height": null,
            "min_height": null,
            "padding": null,
            "grid_auto_rows": null,
            "grid_gap": null,
            "max_width": null,
            "order": null,
            "_view_module_version": "1.2.0",
            "grid_template_areas": null,
            "object_position": null,
            "object_fit": null,
            "grid_auto_columns": null,
            "margin": null,
            "display": null,
            "left": null
          }
        },
        "caf757de889a461f9165fef544dce885": {
          "model_module": "@jupyter-widgets/controls",
          "model_name": "HBoxModel",
          "state": {
            "_view_name": "HBoxView",
            "_dom_classes": [],
            "_model_name": "HBoxModel",
            "_view_module": "@jupyter-widgets/controls",
            "_model_module_version": "1.5.0",
            "_view_count": null,
            "_view_module_version": "1.5.0",
            "box_style": "",
            "layout": "IPY_MODEL_2ffe300380834ce88537424f56520cf5",
            "_model_module": "@jupyter-widgets/controls",
            "children": [
              "IPY_MODEL_539f7f9ad5ac485da8eeae63c7415f53",
              "IPY_MODEL_6b49d7450a7f414aa17a0fbdcbc4d4bc"
            ]
          }
        },
        "2ffe300380834ce88537424f56520cf5": {
          "model_module": "@jupyter-widgets/base",
          "model_name": "LayoutModel",
          "state": {
            "_view_name": "LayoutView",
            "grid_template_rows": null,
            "right": null,
            "justify_content": null,
            "_view_module": "@jupyter-widgets/base",
            "overflow": null,
            "_model_module_version": "1.2.0",
            "_view_count": null,
            "flex_flow": null,
            "width": null,
            "min_width": null,
            "border": null,
            "align_items": null,
            "bottom": null,
            "_model_module": "@jupyter-widgets/base",
            "top": null,
            "grid_column": null,
            "overflow_y": null,
            "overflow_x": null,
            "grid_auto_flow": null,
            "grid_area": null,
            "grid_template_columns": null,
            "flex": null,
            "_model_name": "LayoutModel",
            "justify_items": null,
            "grid_row": null,
            "max_height": null,
            "align_content": null,
            "visibility": null,
            "align_self": null,
            "height": null,
            "min_height": null,
            "padding": null,
            "grid_auto_rows": null,
            "grid_gap": null,
            "max_width": null,
            "order": null,
            "_view_module_version": "1.2.0",
            "grid_template_areas": null,
            "object_position": null,
            "object_fit": null,
            "grid_auto_columns": null,
            "margin": null,
            "display": null,
            "left": null
          }
        },
        "539f7f9ad5ac485da8eeae63c7415f53": {
          "model_module": "@jupyter-widgets/controls",
          "model_name": "IntProgressModel",
          "state": {
            "_view_name": "ProgressView",
            "style": "IPY_MODEL_fd8482f377f84c20af4a66b1938f441b",
            "_dom_classes": [],
            "description": "Downloading: 100%",
            "_model_name": "IntProgressModel",
            "bar_style": "success",
            "max": 440473133,
            "_view_module": "@jupyter-widgets/controls",
            "_model_module_version": "1.5.0",
            "value": 440473133,
            "_view_count": null,
            "_view_module_version": "1.5.0",
            "orientation": "horizontal",
            "min": 0,
            "description_tooltip": null,
            "_model_module": "@jupyter-widgets/controls",
            "layout": "IPY_MODEL_799d862947a94623b7a0be1a40072e3d"
          }
        },
        "6b49d7450a7f414aa17a0fbdcbc4d4bc": {
          "model_module": "@jupyter-widgets/controls",
          "model_name": "HTMLModel",
          "state": {
            "_view_name": "HTMLView",
            "style": "IPY_MODEL_e2d15f096cca406b9cc6f67468e9aba0",
            "_dom_classes": [],
            "description": "",
            "_model_name": "HTMLModel",
            "placeholder": "​",
            "_view_module": "@jupyter-widgets/controls",
            "_model_module_version": "1.5.0",
            "value": " 440M/440M [00:31&lt;00:00, 13.8MB/s]",
            "_view_count": null,
            "_view_module_version": "1.5.0",
            "description_tooltip": null,
            "_model_module": "@jupyter-widgets/controls",
            "layout": "IPY_MODEL_39dc65c099414eed82324b7ae7d94ee3"
          }
        },
        "fd8482f377f84c20af4a66b1938f441b": {
          "model_module": "@jupyter-widgets/controls",
          "model_name": "ProgressStyleModel",
          "state": {
            "_view_name": "StyleView",
            "_model_name": "ProgressStyleModel",
            "description_width": "initial",
            "_view_module": "@jupyter-widgets/base",
            "_model_module_version": "1.5.0",
            "_view_count": null,
            "_view_module_version": "1.2.0",
            "bar_color": null,
            "_model_module": "@jupyter-widgets/controls"
          }
        },
        "799d862947a94623b7a0be1a40072e3d": {
          "model_module": "@jupyter-widgets/base",
          "model_name": "LayoutModel",
          "state": {
            "_view_name": "LayoutView",
            "grid_template_rows": null,
            "right": null,
            "justify_content": null,
            "_view_module": "@jupyter-widgets/base",
            "overflow": null,
            "_model_module_version": "1.2.0",
            "_view_count": null,
            "flex_flow": null,
            "width": null,
            "min_width": null,
            "border": null,
            "align_items": null,
            "bottom": null,
            "_model_module": "@jupyter-widgets/base",
            "top": null,
            "grid_column": null,
            "overflow_y": null,
            "overflow_x": null,
            "grid_auto_flow": null,
            "grid_area": null,
            "grid_template_columns": null,
            "flex": null,
            "_model_name": "LayoutModel",
            "justify_items": null,
            "grid_row": null,
            "max_height": null,
            "align_content": null,
            "visibility": null,
            "align_self": null,
            "height": null,
            "min_height": null,
            "padding": null,
            "grid_auto_rows": null,
            "grid_gap": null,
            "max_width": null,
            "order": null,
            "_view_module_version": "1.2.0",
            "grid_template_areas": null,
            "object_position": null,
            "object_fit": null,
            "grid_auto_columns": null,
            "margin": null,
            "display": null,
            "left": null
          }
        },
        "e2d15f096cca406b9cc6f67468e9aba0": {
          "model_module": "@jupyter-widgets/controls",
          "model_name": "DescriptionStyleModel",
          "state": {
            "_view_name": "StyleView",
            "_model_name": "DescriptionStyleModel",
            "description_width": "",
            "_view_module": "@jupyter-widgets/base",
            "_model_module_version": "1.5.0",
            "_view_count": null,
            "_view_module_version": "1.2.0",
            "_model_module": "@jupyter-widgets/controls"
          }
        },
        "39dc65c099414eed82324b7ae7d94ee3": {
          "model_module": "@jupyter-widgets/base",
          "model_name": "LayoutModel",
          "state": {
            "_view_name": "LayoutView",
            "grid_template_rows": null,
            "right": null,
            "justify_content": null,
            "_view_module": "@jupyter-widgets/base",
            "overflow": null,
            "_model_module_version": "1.2.0",
            "_view_count": null,
            "flex_flow": null,
            "width": null,
            "min_width": null,
            "border": null,
            "align_items": null,
            "bottom": null,
            "_model_module": "@jupyter-widgets/base",
            "top": null,
            "grid_column": null,
            "overflow_y": null,
            "overflow_x": null,
            "grid_auto_flow": null,
            "grid_area": null,
            "grid_template_columns": null,
            "flex": null,
            "_model_name": "LayoutModel",
            "justify_items": null,
            "grid_row": null,
            "max_height": null,
            "align_content": null,
            "visibility": null,
            "align_self": null,
            "height": null,
            "min_height": null,
            "padding": null,
            "grid_auto_rows": null,
            "grid_gap": null,
            "max_width": null,
            "order": null,
            "_view_module_version": "1.2.0",
            "grid_template_areas": null,
            "object_position": null,
            "object_fit": null,
            "grid_auto_columns": null,
            "margin": null,
            "display": null,
            "left": null
          }
        }
      }
    }
  },
  "cells": [
    {
      "cell_type": "code",
      "metadata": {
        "id": "TrE4Q8gNcXaF",
        "colab_type": "code",
        "outputId": "fedab0ed-7172-4882-b433-964e08246b52",
        "colab": {
          "base_uri": "https://localhost:8080/",
          "height": 183
        }
      },
      "source": [
        "\n",
        "from tensorflow.keras.preprocessing.text import Tokenizer\n",
        "from tensorflow.keras.preprocessing.sequence import pad_sequences\n",
        "from sklearn.metrics import classification_report\n",
        "from tensorflow.keras.layers import Dot,Bidirectional,Reshape,Permute,TimeDistributed,Dense,Layer,GRU,Concatenate,Attention,BatchNormalization ,Input, LSTM, Embedding, Dropout, Activation\n",
        "from tensorflow.keras.models import load_model\n",
        "from tensorflow.keras.models import Model\n",
        "from tensorflow.keras.callbacks import EarlyStopping, ModelCheckpoint,LearningRateScheduler\n",
        "from tensorflow.keras import backend as K\n",
        "from tensorflow.keras.optimizers import Adam\n",
        "from tensorflow.keras.utils import to_categorical\n",
        "from tensorflow.keras import initializers, regularizers, constraints\n",
        "from datetime import datetime\n",
        "import nltk\n",
        "import pandas as pd\n",
        "from nltk.tokenize import word_tokenize\n",
        "from nltk.stem import PorterStemmer \n",
        "from tqdm import tqdm\n",
        "from nltk.corpus import stopwords\n",
        "import warnings\n",
        "import numpy as np\n",
        "from sklearn.model_selection import train_test_split,cross_validate\n",
        "from sklearn.tree import DecisionTreeClassifier\n",
        "import os\n",
        "import seaborn as sns\n",
        "from sklearn.neighbors import KNeighborsClassifier\n",
        "import matplotlib.pyplot as plt\n",
        "from matplotlib import style\n",
        "import random\n",
        "from collections import Counter\n",
        "from nltk.stem import WordNetLemmatizer\n",
        "from sklearn.feature_extraction.text import TfidfVectorizer,CountVectorizer\n",
        "from sklearn.metrics import classification_report,confusion_matrix,accuracy_score\n",
        "from sklearn.svm import LinearSVC,SVC\n",
        "from sklearn.linear_model import LogisticRegression,SGDClassifier\n",
        "import string\n",
        "!pip install python-dateutil\n",
        "from dateutil import parser\n",
        "warnings.filterwarnings('ignore')\n",
        "style.use('ggplot')\n",
        "nltk.download('stopwords')\n",
        "nltk.download('punkt')\n",
        "nltk.download('wordnet')\n",
        "\n",
        "stop_Words=set(stopwords.words('english'))"
      ],
      "execution_count": 0,
      "outputs": [
        {
          "output_type": "stream",
          "text": [
            "Requirement already satisfied: python-dateutil in /usr/local/lib/python3.6/dist-packages (2.8.1)\n",
            "Requirement already satisfied: six>=1.5 in /usr/local/lib/python3.6/dist-packages (from python-dateutil) (1.12.0)\n",
            "[nltk_data] Downloading package stopwords to /root/nltk_data...\n",
            "[nltk_data]   Package stopwords is already up-to-date!\n",
            "[nltk_data] Downloading package punkt to /root/nltk_data...\n",
            "[nltk_data]   Package punkt is already up-to-date!\n",
            "[nltk_data] Downloading package wordnet to /root/nltk_data...\n",
            "[nltk_data]   Package wordnet is already up-to-date!\n"
          ],
          "name": "stdout"
        }
      ]
    },
    {
      "cell_type": "code",
      "metadata": {
        "id": "wtSV-3WwcazB",
        "colab_type": "code",
        "outputId": "545785ba-95d3-4a29-c17b-fa009edd06c7",
        "colab": {
          "base_uri": "https://localhost:8080/",
          "height": 128
        }
      },
      "source": [
        "from google.colab import drive\n",
        "drive.mount('/content/gdrive')\n",
        "root_path = '/content/gdrive/My Drive/DRP'  #change dir to your project folder\n"
      ],
      "execution_count": 0,
      "outputs": [
        {
          "output_type": "stream",
          "text": [
            "Go to this URL in a browser: https://accounts.google.com/o/oauth2/auth?client_id=947318989803-6bn6qk8qdgf4n4g3pfee6491hc0brc4i.apps.googleusercontent.com&redirect_uri=urn%3aietf%3awg%3aoauth%3a2.0%3aoob&response_type=code&scope=email%20https%3a%2f%2fwww.googleapis.com%2fauth%2fdocs.test%20https%3a%2f%2fwww.googleapis.com%2fauth%2fdrive%20https%3a%2f%2fwww.googleapis.com%2fauth%2fdrive.photos.readonly%20https%3a%2f%2fwww.googleapis.com%2fauth%2fpeopleapi.readonly\n",
            "\n",
            "Enter your authorization code:\n",
            "··········\n",
            "Mounted at /content/gdrive\n"
          ],
          "name": "stdout"
        }
      ]
    },
    {
      "cell_type": "code",
      "metadata": {
        "id": "pDDlWAsTcXaS",
        "colab_type": "code",
        "colab": {}
      },
      "source": [
        "os.chdir(root_path)\n",
        "df_true=pd.read_csv('True.csv')"
      ],
      "execution_count": 0,
      "outputs": []
    },
    {
      "cell_type": "code",
      "metadata": {
        "id": "P1Rv-k9scXaW",
        "colab_type": "code",
        "outputId": "b32449f0-de06-44c3-9623-04751a485d3a",
        "colab": {
          "base_uri": "https://localhost:8080/",
          "height": 580
        }
      },
      "source": [
        "df_true"
      ],
      "execution_count": 0,
      "outputs": [
        {
          "output_type": "execute_result",
          "data": {
            "text/html": [
              "<div>\n",
              "<style scoped>\n",
              "    .dataframe tbody tr th:only-of-type {\n",
              "        vertical-align: middle;\n",
              "    }\n",
              "\n",
              "    .dataframe tbody tr th {\n",
              "        vertical-align: top;\n",
              "    }\n",
              "\n",
              "    .dataframe thead th {\n",
              "        text-align: right;\n",
              "    }\n",
              "</style>\n",
              "<table border=\"1\" class=\"dataframe\">\n",
              "  <thead>\n",
              "    <tr style=\"text-align: right;\">\n",
              "      <th></th>\n",
              "      <th>title</th>\n",
              "      <th>text</th>\n",
              "      <th>subject</th>\n",
              "      <th>date</th>\n",
              "    </tr>\n",
              "  </thead>\n",
              "  <tbody>\n",
              "    <tr>\n",
              "      <th>0</th>\n",
              "      <td>As U.S. budget fight looms, Republicans flip t...</td>\n",
              "      <td>WASHINGTON (Reuters) - The head of a conservat...</td>\n",
              "      <td>politicsNews</td>\n",
              "      <td>December 31, 2017</td>\n",
              "    </tr>\n",
              "    <tr>\n",
              "      <th>1</th>\n",
              "      <td>U.S. military to accept transgender recruits o...</td>\n",
              "      <td>WASHINGTON (Reuters) - Transgender people will...</td>\n",
              "      <td>politicsNews</td>\n",
              "      <td>December 29, 2017</td>\n",
              "    </tr>\n",
              "    <tr>\n",
              "      <th>2</th>\n",
              "      <td>Senior U.S. Republican senator: 'Let Mr. Muell...</td>\n",
              "      <td>WASHINGTON (Reuters) - The special counsel inv...</td>\n",
              "      <td>politicsNews</td>\n",
              "      <td>December 31, 2017</td>\n",
              "    </tr>\n",
              "    <tr>\n",
              "      <th>3</th>\n",
              "      <td>FBI Russia probe helped by Australian diplomat...</td>\n",
              "      <td>WASHINGTON (Reuters) - Trump campaign adviser ...</td>\n",
              "      <td>politicsNews</td>\n",
              "      <td>December 30, 2017</td>\n",
              "    </tr>\n",
              "    <tr>\n",
              "      <th>4</th>\n",
              "      <td>Trump wants Postal Service to charge 'much mor...</td>\n",
              "      <td>SEATTLE/WASHINGTON (Reuters) - President Donal...</td>\n",
              "      <td>politicsNews</td>\n",
              "      <td>December 29, 2017</td>\n",
              "    </tr>\n",
              "    <tr>\n",
              "      <th>...</th>\n",
              "      <td>...</td>\n",
              "      <td>...</td>\n",
              "      <td>...</td>\n",
              "      <td>...</td>\n",
              "    </tr>\n",
              "    <tr>\n",
              "      <th>21412</th>\n",
              "      <td>'Fully committed' NATO backs new U.S. approach...</td>\n",
              "      <td>BRUSSELS (Reuters) - NATO allies on Tuesday we...</td>\n",
              "      <td>worldnews</td>\n",
              "      <td>August 22, 2017</td>\n",
              "    </tr>\n",
              "    <tr>\n",
              "      <th>21413</th>\n",
              "      <td>LexisNexis withdrew two products from Chinese ...</td>\n",
              "      <td>LONDON (Reuters) - LexisNexis, a provider of l...</td>\n",
              "      <td>worldnews</td>\n",
              "      <td>August 22, 2017</td>\n",
              "    </tr>\n",
              "    <tr>\n",
              "      <th>21414</th>\n",
              "      <td>Minsk cultural hub becomes haven from authorities</td>\n",
              "      <td>MINSK (Reuters) - In the shadow of disused Sov...</td>\n",
              "      <td>worldnews</td>\n",
              "      <td>August 22, 2017</td>\n",
              "    </tr>\n",
              "    <tr>\n",
              "      <th>21415</th>\n",
              "      <td>Vatican upbeat on possibility of Pope Francis ...</td>\n",
              "      <td>MOSCOW (Reuters) - Vatican Secretary of State ...</td>\n",
              "      <td>worldnews</td>\n",
              "      <td>August 22, 2017</td>\n",
              "    </tr>\n",
              "    <tr>\n",
              "      <th>21416</th>\n",
              "      <td>Indonesia to buy $1.14 billion worth of Russia...</td>\n",
              "      <td>JAKARTA (Reuters) - Indonesia will buy 11 Sukh...</td>\n",
              "      <td>worldnews</td>\n",
              "      <td>August 22, 2017</td>\n",
              "    </tr>\n",
              "  </tbody>\n",
              "</table>\n",
              "<p>21417 rows × 4 columns</p>\n",
              "</div>"
            ],
            "text/plain": [
              "                                                   title  ...                date\n",
              "0      As U.S. budget fight looms, Republicans flip t...  ...  December 31, 2017 \n",
              "1      U.S. military to accept transgender recruits o...  ...  December 29, 2017 \n",
              "2      Senior U.S. Republican senator: 'Let Mr. Muell...  ...  December 31, 2017 \n",
              "3      FBI Russia probe helped by Australian diplomat...  ...  December 30, 2017 \n",
              "4      Trump wants Postal Service to charge 'much mor...  ...  December 29, 2017 \n",
              "...                                                  ...  ...                 ...\n",
              "21412  'Fully committed' NATO backs new U.S. approach...  ...    August 22, 2017 \n",
              "21413  LexisNexis withdrew two products from Chinese ...  ...    August 22, 2017 \n",
              "21414  Minsk cultural hub becomes haven from authorities  ...    August 22, 2017 \n",
              "21415  Vatican upbeat on possibility of Pope Francis ...  ...    August 22, 2017 \n",
              "21416  Indonesia to buy $1.14 billion worth of Russia...  ...    August 22, 2017 \n",
              "\n",
              "[21417 rows x 4 columns]"
            ]
          },
          "metadata": {
            "tags": []
          },
          "execution_count": 6
        }
      ]
    },
    {
      "cell_type": "code",
      "metadata": {
        "id": "2sRjeACDcXac",
        "colab_type": "code",
        "colab": {}
      },
      "source": [
        "df_fake=pd.read_csv('Fake.csv')"
      ],
      "execution_count": 0,
      "outputs": []
    },
    {
      "cell_type": "code",
      "metadata": {
        "id": "MFTpYJzXcXah",
        "colab_type": "code",
        "outputId": "a1ff958d-925a-4bb0-cf89-abb655e1aa93",
        "colab": {
          "base_uri": "https://localhost:8080/",
          "height": 580
        }
      },
      "source": [
        "df_fake"
      ],
      "execution_count": 0,
      "outputs": [
        {
          "output_type": "execute_result",
          "data": {
            "text/html": [
              "<div>\n",
              "<style scoped>\n",
              "    .dataframe tbody tr th:only-of-type {\n",
              "        vertical-align: middle;\n",
              "    }\n",
              "\n",
              "    .dataframe tbody tr th {\n",
              "        vertical-align: top;\n",
              "    }\n",
              "\n",
              "    .dataframe thead th {\n",
              "        text-align: right;\n",
              "    }\n",
              "</style>\n",
              "<table border=\"1\" class=\"dataframe\">\n",
              "  <thead>\n",
              "    <tr style=\"text-align: right;\">\n",
              "      <th></th>\n",
              "      <th>title</th>\n",
              "      <th>text</th>\n",
              "      <th>subject</th>\n",
              "      <th>date</th>\n",
              "    </tr>\n",
              "  </thead>\n",
              "  <tbody>\n",
              "    <tr>\n",
              "      <th>0</th>\n",
              "      <td>Donald Trump Sends Out Embarrassing New Year’...</td>\n",
              "      <td>Donald Trump just couldn t wish all Americans ...</td>\n",
              "      <td>News</td>\n",
              "      <td>December 31, 2017</td>\n",
              "    </tr>\n",
              "    <tr>\n",
              "      <th>1</th>\n",
              "      <td>Drunk Bragging Trump Staffer Started Russian ...</td>\n",
              "      <td>House Intelligence Committee Chairman Devin Nu...</td>\n",
              "      <td>News</td>\n",
              "      <td>December 31, 2017</td>\n",
              "    </tr>\n",
              "    <tr>\n",
              "      <th>2</th>\n",
              "      <td>Sheriff David Clarke Becomes An Internet Joke...</td>\n",
              "      <td>On Friday, it was revealed that former Milwauk...</td>\n",
              "      <td>News</td>\n",
              "      <td>December 30, 2017</td>\n",
              "    </tr>\n",
              "    <tr>\n",
              "      <th>3</th>\n",
              "      <td>Trump Is So Obsessed He Even Has Obama’s Name...</td>\n",
              "      <td>On Christmas day, Donald Trump announced that ...</td>\n",
              "      <td>News</td>\n",
              "      <td>December 29, 2017</td>\n",
              "    </tr>\n",
              "    <tr>\n",
              "      <th>4</th>\n",
              "      <td>Pope Francis Just Called Out Donald Trump Dur...</td>\n",
              "      <td>Pope Francis used his annual Christmas Day mes...</td>\n",
              "      <td>News</td>\n",
              "      <td>December 25, 2017</td>\n",
              "    </tr>\n",
              "    <tr>\n",
              "      <th>...</th>\n",
              "      <td>...</td>\n",
              "      <td>...</td>\n",
              "      <td>...</td>\n",
              "      <td>...</td>\n",
              "    </tr>\n",
              "    <tr>\n",
              "      <th>23476</th>\n",
              "      <td>McPain: John McCain Furious That Iran Treated ...</td>\n",
              "      <td>21st Century Wire says As 21WIRE reported earl...</td>\n",
              "      <td>Middle-east</td>\n",
              "      <td>January 16, 2016</td>\n",
              "    </tr>\n",
              "    <tr>\n",
              "      <th>23477</th>\n",
              "      <td>JUSTICE? Yahoo Settles E-mail Privacy Class-ac...</td>\n",
              "      <td>21st Century Wire says It s a familiar theme. ...</td>\n",
              "      <td>Middle-east</td>\n",
              "      <td>January 16, 2016</td>\n",
              "    </tr>\n",
              "    <tr>\n",
              "      <th>23478</th>\n",
              "      <td>Sunnistan: US and Allied ‘Safe Zone’ Plan to T...</td>\n",
              "      <td>Patrick Henningsen  21st Century WireRemember ...</td>\n",
              "      <td>Middle-east</td>\n",
              "      <td>January 15, 2016</td>\n",
              "    </tr>\n",
              "    <tr>\n",
              "      <th>23479</th>\n",
              "      <td>How to Blow $700 Million: Al Jazeera America F...</td>\n",
              "      <td>21st Century Wire says Al Jazeera America will...</td>\n",
              "      <td>Middle-east</td>\n",
              "      <td>January 14, 2016</td>\n",
              "    </tr>\n",
              "    <tr>\n",
              "      <th>23480</th>\n",
              "      <td>10 U.S. Navy Sailors Held by Iranian Military ...</td>\n",
              "      <td>21st Century Wire says As 21WIRE predicted in ...</td>\n",
              "      <td>Middle-east</td>\n",
              "      <td>January 12, 2016</td>\n",
              "    </tr>\n",
              "  </tbody>\n",
              "</table>\n",
              "<p>23481 rows × 4 columns</p>\n",
              "</div>"
            ],
            "text/plain": [
              "                                                   title  ...               date\n",
              "0       Donald Trump Sends Out Embarrassing New Year’...  ...  December 31, 2017\n",
              "1       Drunk Bragging Trump Staffer Started Russian ...  ...  December 31, 2017\n",
              "2       Sheriff David Clarke Becomes An Internet Joke...  ...  December 30, 2017\n",
              "3       Trump Is So Obsessed He Even Has Obama’s Name...  ...  December 29, 2017\n",
              "4       Pope Francis Just Called Out Donald Trump Dur...  ...  December 25, 2017\n",
              "...                                                  ...  ...                ...\n",
              "23476  McPain: John McCain Furious That Iran Treated ...  ...   January 16, 2016\n",
              "23477  JUSTICE? Yahoo Settles E-mail Privacy Class-ac...  ...   January 16, 2016\n",
              "23478  Sunnistan: US and Allied ‘Safe Zone’ Plan to T...  ...   January 15, 2016\n",
              "23479  How to Blow $700 Million: Al Jazeera America F...  ...   January 14, 2016\n",
              "23480  10 U.S. Navy Sailors Held by Iranian Military ...  ...   January 12, 2016\n",
              "\n",
              "[23481 rows x 4 columns]"
            ]
          },
          "metadata": {
            "tags": []
          },
          "execution_count": 8
        }
      ]
    },
    {
      "cell_type": "markdown",
      "metadata": {
        "id": "rhrPfA0OYZqL",
        "colab_type": "text"
      },
      "source": [
        ""
      ]
    },
    {
      "cell_type": "markdown",
      "metadata": {
        "id": "fPt4vBduYZgP",
        "colab_type": "text"
      },
      "source": [
        ""
      ]
    },
    {
      "cell_type": "markdown",
      "metadata": {
        "id": "AT_ZEUB1cXal",
        "colab_type": "text"
      },
      "source": [
        "###Intial visualisation of Complete Data"
      ]
    },
    {
      "cell_type": "code",
      "metadata": {
        "id": "TcuJmuYUelie",
        "colab_type": "code",
        "outputId": "ecfb0a2a-137a-44a0-97c0-41c32e79dc2a",
        "colab": {
          "base_uri": "https://localhost:8080/",
          "height": 521
        }
      },
      "source": [
        "true_count,fake_count=len(df_true),len(df_fake)\n",
        "fig=plt.figure(figsize=(20,10))\n",
        "ax=fig.add_subplot(111)\n",
        "ax.bar(['True News','Fake News'],[true_count,fake_count],color=['red','blue'],width=0.5)\n",
        "ax.set_title('Count of True and Fake News')\n",
        "ax.set_xlabel('News Category',fontsize=20)\n",
        "ax.set_ylabel('Count',fontsize=20)"
      ],
      "execution_count": 0,
      "outputs": [
        {
          "output_type": "execute_result",
          "data": {
            "text/plain": [
              "Text(0, 0.5, 'Count')"
            ]
          },
          "metadata": {
            "tags": []
          },
          "execution_count": 7
        },
        {
          "output_type": "display_data",
          "data": {
            "image/png": "[encoded data removed]",
            "text/plain": [
              "<Figure size 1440x720 with 1 Axes>"
            ]
          },
          "metadata": {
            "tags": []
          }
        }
      ]
    },
    {
      "cell_type": "code",
      "metadata": {
        "id": "Xe48D-pse9as",
        "colab_type": "code",
        "outputId": "ec324a85-9f3d-441c-985a-395fb1763b8a",
        "colab": {
          "base_uri": "https://localhost:8080/",
          "height": 562
        }
      },
      "source": [
        "fig, ax = plt.subplots(figsize=(20, 10))\n",
        "ax=df_true['subject'].value_counts().plot(kind='bar',ax=ax,color=['red','blue'])\n",
        "ax.set_xlabel('Type of News',fontsize=20)\n",
        "ax.set_ylabel('Count',fontsize=20)\n",
        "ax.set_title('Count of Unique Subjects(Type of News) in True News Category')"
      ],
      "execution_count": 0,
      "outputs": [
        {
          "output_type": "execute_result",
          "data": {
            "text/plain": [
              "Text(0.5, 1.0, 'Count of Unique Subjects(Type of News) in True News Category')"
            ]
          },
          "metadata": {
            "tags": []
          },
          "execution_count": 8
        },
        {
          "output_type": "display_data",
          "data": {
            "image/png": "[encoded data removed]",
            "text/plain": [
              "<Figure size 1440x720 with 1 Axes>"
            ]
          },
          "metadata": {
            "tags": []
          }
        }
      ]
    },
    {
      "cell_type": "code",
      "metadata": {
        "id": "Nh6nKZhXgz8k",
        "colab_type": "code",
        "outputId": "60c0006f-3672-4070-e4e4-109a8cf866b9",
        "colab": {
          "base_uri": "https://localhost:8080/",
          "height": 589
        }
      },
      "source": [
        "fig, ax = plt.subplots(figsize=(20, 10))\n",
        "ax=df_fake['subject'].value_counts().plot(kind='bar',ax=ax,color=['red','blue','green','pink','orange','yellow'])\n",
        "ax.set_xlabel('Type of News',fontsize=20)\n",
        "ax.set_ylabel('Count',fontsize=20)\n",
        "ax.set_title('Count of Unique Subjects(Type of News) in Fake News Category')"
      ],
      "execution_count": 0,
      "outputs": [
        {
          "output_type": "execute_result",
          "data": {
            "text/plain": [
              "Text(0.5, 1.0, 'Count of Unique Subjects(Type of News) in Fake News Category')"
            ]
          },
          "metadata": {
            "tags": []
          },
          "execution_count": 9
        },
        {
          "output_type": "display_data",
          "data": {
            "image/png": "[encoded data removed]",
            "text/plain": [
              "<Figure size 1440x720 with 1 Axes>"
            ]
          },
          "metadata": {
            "tags": []
          }
        }
      ]
    },
    {
      "cell_type": "code",
      "metadata": {
        "id": "xUGePK2du59I",
        "colab_type": "code",
        "outputId": "e3aadd5b-12a0-467c-b6cb-7fe22abc5844",
        "colab": {
          "base_uri": "https://localhost:8080/",
          "height": 521
        }
      },
      "source": [
        "def unique_words_visulisation(text_series,title,label,n):\n",
        "  result = list(Counter(\" \".join(text_series.values.tolist()).split(\" \")).items())[:n]\n",
        "  print(result)\n",
        "  fig, ax = plt.subplots(figsize=(20, 10))\n",
        "  ax.bar([instance[0] for instance in result if instance[0]],[instance[1] for instance in result])\n",
        "  ax.set_title('Most Occurred words in {}-({})'.format(title,label))\n",
        "  ax.set_xlabel('Words',fontsize=20)\n",
        "  ax.set_ylabel('Count',fontsize=20)\n",
        "  plt.show()\n",
        "  \n",
        "unique_words_visulisation(df_true['Cleaned_text'],'Cleaned_text','True',5)"
      ],
      "execution_count": 0,
      "outputs": [
        {
          "output_type": "stream",
          "text": [
            "[('WASHINGTON', 6511), ('Reuters', 28363), ('The', 58563), ('head', 3321), ('conservative', 3779)]\n"
          ],
          "name": "stdout"
        },
        {
          "output_type": "display_data",
          "data": {
            "image/png": "[encoded data removed]",
            "text/plain": [
              "<Figure size 1440x720 with 1 Axes>"
            ]
          },
          "metadata": {
            "tags": []
          }
        }
      ]
    },
    {
      "cell_type": "code",
      "metadata": {
        "id": "7qY-h5yNx0hy",
        "colab_type": "code",
        "outputId": "18dbf55f-c744-4e51-dfd6-a69ff24d8057",
        "colab": {
          "base_uri": "https://localhost:8080/",
          "height": 523
        }
      },
      "source": [
        "unique_words_visulisation(df_true['Cleaned_title'],'Cleaned_text','True',5)"
      ],
      "execution_count": 0,
      "outputs": [
        {
          "output_type": "stream",
          "text": [
            "[('As', 64), ('U.S.', 3893), ('budget', 241), ('fight', 222), ('loom', 60)]\n"
          ],
          "name": "stdout"
        },
        {
          "output_type": "display_data",
          "data": {
            "image/png": "[encoded data removed]",
            "text/plain": [
              "<Figure size 1440x720 with 1 Axes>"
            ]
          },
          "metadata": {
            "tags": []
          }
        }
      ]
    },
    {
      "cell_type": "code",
      "metadata": {
        "id": "urD8XYZsx9OY",
        "colab_type": "code",
        "outputId": "d00afe93-1db4-46a8-8612-a40d2d0c4d06",
        "colab": {
          "base_uri": "https://localhost:8080/",
          "height": 521
        }
      },
      "source": [
        "unique_words_visulisation(df_fake['Cleaned_text'],'Cleaned_text','fake',5)"
      ],
      "execution_count": 0,
      "outputs": [
        {
          "output_type": "stream",
          "text": [
            "[('Donald', 17180), ('Trump', 73353), ('wish', 745), ('Americans', 6110), ('Happy', 128)]\n"
          ],
          "name": "stdout"
        },
        {
          "output_type": "display_data",
          "data": {
            "image/png": "[encoded data removed]",
            "text/plain": [
              "<Figure size 1440x720 with 1 Axes>"
            ]
          },
          "metadata": {
            "tags": []
          }
        }
      ]
    },
    {
      "cell_type": "code",
      "metadata": {
        "id": "l-Hlb5U1yhjl",
        "colab_type": "code",
        "outputId": "bdc262df-d9df-4bcf-aded-7db89cd2e9db",
        "colab": {
          "base_uri": "https://localhost:8080/",
          "height": 523
        }
      },
      "source": [
        "unique_words_visulisation(df_fake['Cleaned_title'],'Cleaned_title','fake',5)"
      ],
      "execution_count": 0,
      "outputs": [
        {
          "output_type": "stream",
          "text": [
            "[('Donald', 744), ('Trump', 7672), ('Sends', 43), ('Out', 803), ('Embarrassing', 50)]\n"
          ],
          "name": "stdout"
        },
        {
          "output_type": "display_data",
          "data": {
            "image/png": "[encoded data removed]",
            "text/plain": [
              "<Figure size 1440x720 with 1 Axes>"
            ]
          },
          "metadata": {
            "tags": []
          }
        }
      ]
    },
    {
      "cell_type": "markdown",
      "metadata": {
        "id": "5L9uMsU64AZG",
        "colab_type": "text"
      },
      "source": [
        "## Replication of the Orginal Paper"
      ]
    },
    {
      "cell_type": "markdown",
      "metadata": {
        "id": "2wTDByoQZVjK",
        "colab_type": "text"
      },
      "source": [
        "### Preprocessing the Data"
      ]
    },
    {
      "cell_type": "code",
      "metadata": {
        "id": "4z8YQJMhjxZD",
        "colab_type": "code",
        "colab": {}
      },
      "source": [
        "def cleaning_pipeline(sentence):\n",
        "  punctuation_set = set(string.punctuation)\n",
        "  lemmatizer = WordNetLemmatizer()\n",
        "\n",
        "  tokens=word_tokenize(sentence)##Word Tokens\n",
        "\n",
        "  tokens = [word for word in tokens if word not in punctuation_set]    ## Removing Punctuation\n",
        "  tokens=[word for word in tokens if word not in stop_Words]##Removing Stop Words\n",
        "\n",
        "  tokens=[word for word in tokens if not word.isdigit()]## Removing Alphanumeric values\n",
        "  \n",
        "  tokens=[lemmatizer.lemmatize(word) for word in tokens]## Stemming/Lemmatizing\n",
        "\n",
        "  sentence_cleaned=' '.join(tokens)\n",
        "\n",
        "  return sentence_cleaned"
      ],
      "execution_count": 0,
      "outputs": []
    },
    {
      "cell_type": "markdown",
      "metadata": {
        "id": "IAAcSzeiY6zZ",
        "colab_type": "text"
      },
      "source": [
        "### Filtering of the Data"
      ]
    },
    {
      "cell_type": "code",
      "metadata": {
        "id": "KzJaYR7bCg0c",
        "colab_type": "code",
        "colab": {}
      },
      "source": [
        "for instance in df_fake['date'].values:\n",
        "  if len(instance)>17:\n",
        "    df_fake=df_fake.drop(df_fake[df_fake['date']==instance].index)\n",
        "\n",
        "    \n",
        "def to_Datetime(instance):\n",
        "    return parser.parse(instance)\n",
        "df_true['date']=df_true['date'].str.replace(',', '')\n",
        "\n",
        "df_fake['date']=df_fake['date'].str.replace(',', '')\n",
        "df_true['new_date']=df_true['date'].map(to_Datetime)\n",
        "df_fake['new_date']=df_fake['date'].map(to_Datetime)"
      ],
      "execution_count": 0,
      "outputs": []
    },
    {
      "cell_type": "code",
      "metadata": {
        "id": "YcFicIl0BNDN",
        "colab_type": "code",
        "colab": {}
      },
      "source": [
        "mask_fake=(df_fake['new_date'].dt.year==2016)\n",
        "mask_true=(df_true['new_date'].dt.year==2016)\n",
        "exp_fake=df_fake[mask_fake &(df_fake['subject']=='politics')&(df_fake['text'].str.len()>=200)]\n",
        "exp_true=df_true[mask_true & (df_true['subject']=='politicsNews')&(df_true['text'].str.len()>=200)]\n"
      ],
      "execution_count": 0,
      "outputs": []
    },
    {
      "cell_type": "code",
      "metadata": {
        "id": "A65gJUxaVlv_",
        "colab_type": "code",
        "colab": {}
      },
      "source": [
        "exp_true['Cleaned_text']=exp_true['text'].map(cleaning_pipeline)\n",
        "exp_fake['Cleaned_text']=exp_fake['text'].map(cleaning_pipeline)\n",
        "\n",
        "\n",
        "exp_true_array=exp_true['Cleaned_text'].to_numpy().reshape(-1,)\n",
        "exp_fake_array=exp_fake['Cleaned_text'].to_numpy().reshape(-1,)\n",
        "exp_labels_true=np.ones(len(exp_true_array),dtype=int)\n",
        "exp_labels_fake=np.zeros(len(exp_fake_array),dtype=int)\n",
        "\n",
        "X_raw_exp=np.array(np.concatenate([exp_true_array,exp_fake_array]))\n",
        "y_exp=np.array(np.concatenate([exp_labels_true,exp_labels_fake]))\n",
        "\n",
        "Zipped=list(zip(X_raw_exp, y_exp))##Randomly suffling the X and y to avoid biasness\n",
        "random.shuffle(Zipped)\n",
        "X_raw_exp, y_exp = zip(*Zipped)\n",
        "\n",
        "X_raw_exp=np.array(X_raw_exp)\n",
        "y_exp=np.array(y_exp)\n"
      ],
      "execution_count": 0,
      "outputs": []
    },
    {
      "cell_type": "markdown",
      "metadata": {
        "id": "1SCdi3A2ZqAG",
        "colab_type": "text"
      },
      "source": [
        "### Feature Extraction(TD-IDF) and Testing Different Machine Learning Algorithms"
      ]
    },
    {
      "cell_type": "code",
      "metadata": {
        "id": "JqgnjA9u39Z0",
        "colab_type": "code",
        "outputId": "34b25290-d035-4c90-cc0b-51e511a52248",
        "colab": {
          "base_uri": "https://localhost:8080/",
          "height": 88
        }
      },
      "source": [
        "def gridsearchcv(model,model_name,tf=False):\n",
        "  ngram_ranges={'Unigram ':(1,1),'Bigram':(2,2),'TriGram':(3,3),'FourGram':(4,4)}\n",
        "  max_features_ranges=[1000,5000,10000,50000]\n",
        "  types=['TFIDF','TF']\n",
        "\n",
        "  final_dic={}\n",
        "  for max_features in tqdm(max_features_ranges):\n",
        "    for ngram_range in list(ngram_ranges.values()):\n",
        "        if tf:\n",
        "          tfs=CountVectorizer(max_features=max_features,ngram_range=ngram_range)\n",
        "          X_tdidf=tfs.fit_transform(X_raw_exp)\n",
        "          i=1\n",
        "          \n",
        "        else:\n",
        "          tdidf=TfidfVectorizer(max_features=max_features,ngram_range=ngram_range)###Optimize these parameter and note the results\n",
        "          X_tdidf=tdidf.fit_transform(X_raw_exp)\n",
        "          i=0\n",
        "        clf=model()\n",
        "        X_train,X_test,y_train,y_test=train_test_split(X_tdidf,y_exp,test_size=0.2)\n",
        "        clf.fit(X_train,y_train)\n",
        "        y_predict=clf.predict(X_test)\n",
        "        score=accuracy_score(y_test,y_predict)\n",
        "        reverse_dic={v:k for k,v in ngram_ranges.items()}\n",
        "    \n",
        "        final_dic[model_name+'-'+reverse_dic[ngram_range]+'-'+str(max_features)+'-'+types[i]]=score\n",
        "  print(final_dic)\n",
        "gridsearchcv(LogisticRegression,'LogisticRegression')## do this for each model and tF ##rREHAN SEE THE BELOW output"
      ],
      "execution_count": 0,
      "outputs": [
        {
          "output_type": "stream",
          "text": [
            "100%|██████████| 4/4 [01:56<00:00, 29.15s/it]"
          ],
          "name": "stderr"
        },
        {
          "output_type": "stream",
          "text": [
            "{'LogisticRegression-Unigram -1000-TFIDF': 0.9634235552304315, 'LogisticRegression-Bigram-1000-TFIDF': 0.9407461594732992, 'LogisticRegression-TriGram-1000-TFIDF': 0.9275786393562546, 'LogisticRegression-FourGram-1000-TFIDF': 0.8178493050475494, 'LogisticRegression-Unigram -5000-TFIDF': 0.9561082662765179, 'LogisticRegression-Bigram-5000-TFIDF': 0.9487929773226043, 'LogisticRegression-TriGram-5000-TFIDF': 0.922457937088515, 'LogisticRegression-FourGram-5000-TFIDF': 0.8910021945866862, 'LogisticRegression-Unigram -10000-TFIDF': 0.9517190929041697, 'LogisticRegression-Bigram-10000-TFIDF': 0.9597659107534747, 'LogisticRegression-TriGram-10000-TFIDF': 0.9158741770299926, 'LogisticRegression-FourGram-10000-TFIDF': 0.8917337234820776, 'LogisticRegression-Unigram -50000-TFIDF': 0.9626920263350403, 'LogisticRegression-Bigram-50000-TFIDF': 0.9370885149963424, 'LogisticRegression-TriGram-50000-TFIDF': 0.8771031455742502, 'LogisticRegression-FourGram-50000-TFIDF': 0.7542062911485004}\n"
          ],
          "name": "stdout"
        },
        {
          "output_type": "stream",
          "text": [
            "\n"
          ],
          "name": "stderr"
        }
      ]
    },
    {
      "cell_type": "code",
      "metadata": {
        "id": "LdflhaolPsU3",
        "colab_type": "code",
        "outputId": "0bb98bf5-e7f1-4829-c046-f21ccae35576",
        "colab": {
          "base_uri": "https://localhost:8080/",
          "height": 88
        }
      },
      "source": [
        "gridsearchcv(LinearSVC,'LinearSVC')## do this for each model and tf"
      ],
      "execution_count": 0,
      "outputs": [
        {
          "output_type": "stream",
          "text": [
            "100%|██████████| 4/4 [01:53<00:00, 28.46s/it]"
          ],
          "name": "stderr"
        },
        {
          "output_type": "stream",
          "text": [
            "{'LinearSVC-Unigram -1000-TFIDF': 0.9875640087783467, 'LinearSVC-Bigram-1000-TFIDF': 0.950256035113387, 'LinearSVC-TriGram-1000-TFIDF': 0.8997805413313826, 'LinearSVC-FourGram-1000-TFIDF': 0.8405267008046818, 'LinearSVC-Unigram -5000-TFIDF': 0.9795171909290417, 'LinearSVC-Bigram-5000-TFIDF': 0.9707388441843453, 'LinearSVC-TriGram-5000-TFIDF': 0.9458668617410387, 'LinearSVC-FourGram-5000-TFIDF': 0.8873445501097293, 'LinearSVC-Unigram -10000-TFIDF': 0.9787856620336504, 'LinearSVC-Bigram-10000-TFIDF': 0.972201901975128, 'LinearSVC-TriGram-10000-TFIDF': 0.936356986100951, 'LinearSVC-FourGram-10000-TFIDF': 0.9005120702267739, 'LinearSVC-Unigram -50000-TFIDF': 0.9729334308705194, 'LinearSVC-Bigram-50000-TFIDF': 0.9700073152889539, 'LinearSVC-TriGram-50000-TFIDF': 0.9509875640087784, 'LinearSVC-FourGram-50000-TFIDF': 0.9217264081931237}\n"
          ],
          "name": "stdout"
        },
        {
          "output_type": "stream",
          "text": [
            "\n"
          ],
          "name": "stderr"
        }
      ]
    },
    {
      "cell_type": "code",
      "metadata": {
        "id": "rTfwr8_8Py71",
        "colab_type": "code",
        "outputId": "260e7aa3-c6ba-4a9a-9ef1-224c60c65807",
        "colab": {
          "base_uri": "https://localhost:8080/",
          "height": 88
        }
      },
      "source": [
        "gridsearchcv(SGDClassifier,'SGDClassifier')## do this for each model and tF"
      ],
      "execution_count": 0,
      "outputs": [
        {
          "output_type": "stream",
          "text": [
            "100%|██████████| 4/4 [01:54<00:00, 28.58s/it]"
          ],
          "name": "stderr"
        },
        {
          "output_type": "stream",
          "text": [
            "{'SGDClassifier-Unigram -1000-TFIDF': 0.9817117776152158, 'SGDClassifier-Bigram-1000-TFIDF': 0.9561082662765179, 'SGDClassifier-TriGram-1000-TFIDF': 0.9253840526700805, 'SGDClassifier-FourGram-1000-TFIDF': 0.8295537673738113, 'SGDClassifier-Unigram -5000-TFIDF': 0.9787856620336504, 'SGDClassifier-Bigram-5000-TFIDF': 0.9612289685442575, 'SGDClassifier-TriGram-5000-TFIDF': 0.9407461594732992, 'SGDClassifier-FourGram-5000-TFIDF': 0.8814923189465984, 'SGDClassifier-Unigram -10000-TFIDF': 0.9802487198244331, 'SGDClassifier-Bigram-10000-TFIDF': 0.9729334308705194, 'SGDClassifier-TriGram-10000-TFIDF': 0.9334308705193856, 'SGDClassifier-FourGram-10000-TFIDF': 0.8705193855157278, 'SGDClassifier-Unigram -50000-TFIDF': 0.9787856620336504, 'SGDClassifier-Bigram-50000-TFIDF': 0.9817117776152158, 'SGDClassifier-TriGram-50000-TFIDF': 0.9458668617410387, 'SGDClassifier-FourGram-50000-TFIDF': 0.9049012435991222}\n"
          ],
          "name": "stdout"
        },
        {
          "output_type": "stream",
          "text": [
            "\n"
          ],
          "name": "stderr"
        }
      ]
    },
    {
      "cell_type": "code",
      "metadata": {
        "id": "Utvhp5_RP4vF",
        "colab_type": "code",
        "outputId": "ebf1b42a-b2a6-4497-e7eb-bb86949244ff",
        "colab": {
          "base_uri": "https://localhost:8080/",
          "height": 88
        }
      },
      "source": [
        "gridsearchcv(KNeighborsClassifier,'KNeighborsClassifier')## do this for each model and tF"
      ],
      "execution_count": 0,
      "outputs": [
        {
          "output_type": "stream",
          "text": [
            "100%|██████████| 4/4 [01:59<00:00, 29.89s/it]"
          ],
          "name": "stderr"
        },
        {
          "output_type": "stream",
          "text": [
            "{'KNeighborsClassifier-Unigram -1000-TFIDF': 0.8522311631309437, 'KNeighborsClassifier-Bigram-1000-TFIDF': 0.49012435991221653, 'KNeighborsClassifier-TriGram-1000-TFIDF': 0.6554498902706657, 'KNeighborsClassifier-FourGram-1000-TFIDF': 0.7410387710314558, 'KNeighborsClassifier-Unigram -5000-TFIDF': 0.8361375274323336, 'KNeighborsClassifier-Bigram-5000-TFIDF': 0.36137527432333577, 'KNeighborsClassifier-TriGram-5000-TFIDF': 0.40087783467446964, 'KNeighborsClassifier-FourGram-5000-TFIDF': 0.5610826627651793, 'KNeighborsClassifier-Unigram -10000-TFIDF': 0.8193123628383321, 'KNeighborsClassifier-Bigram-10000-TFIDF': 0.8302852962692027, 'KNeighborsClassifier-TriGram-10000-TFIDF': 0.3496708119970739, 'KNeighborsClassifier-FourGram-10000-TFIDF': 0.4228237015362107, 'KNeighborsClassifier-Unigram -50000-TFIDF': 0.8354059985369422, 'KNeighborsClassifier-Bigram-50000-TFIDF': 0.888807607900512, 'KNeighborsClassifier-TriGram-50000-TFIDF': 0.3196781272860278, 'KNeighborsClassifier-FourGram-50000-TFIDF': 0.3408924652523775}\n"
          ],
          "name": "stdout"
        },
        {
          "output_type": "stream",
          "text": [
            "\n"
          ],
          "name": "stderr"
        }
      ]
    },
    {
      "cell_type": "code",
      "metadata": {
        "id": "lJN_8d-0P9rL",
        "colab_type": "code",
        "outputId": "4e220c13-927d-4c9e-9c39-372017e2a130",
        "colab": {
          "base_uri": "https://localhost:8080/",
          "height": 88
        }
      },
      "source": [
        "gridsearchcv(DecisionTreeClassifier,'DecisionTreeClassifier')## do this for each model and tF"
      ],
      "execution_count": 0,
      "outputs": [
        {
          "output_type": "stream",
          "text": [
            "100%|██████████| 4/4 [02:10<00:00, 32.73s/it]"
          ],
          "name": "stderr"
        },
        {
          "output_type": "stream",
          "text": [
            "{'DecisionTreeClassifier-Unigram -1000-TFIDF': 0.986100950987564, 'DecisionTreeClassifier-Bigram-1000-TFIDF': 0.8968544257498171, 'DecisionTreeClassifier-TriGram-1000-TFIDF': 0.8858814923189466, 'DecisionTreeClassifier-FourGram-1000-TFIDF': 0.8302852962692027, 'DecisionTreeClassifier-Unigram -5000-TFIDF': 0.9912216532553035, 'DecisionTreeClassifier-Bigram-5000-TFIDF': 0.908558888076079, 'DecisionTreeClassifier-TriGram-5000-TFIDF': 0.8917337234820776, 'DecisionTreeClassifier-FourGram-5000-TFIDF': 0.8551572787125091, 'DecisionTreeClassifier-Unigram -10000-TFIDF': 0.9890270665691295, 'DecisionTreeClassifier-Bigram-10000-TFIDF': 0.8990490124359912, 'DecisionTreeClassifier-TriGram-10000-TFIDF': 0.8961228968544257, 'DecisionTreeClassifier-FourGram-10000-TFIDF': 0.8471104608632041, 'DecisionTreeClassifier-Unigram -50000-TFIDF': 0.9897585954645208, 'DecisionTreeClassifier-Bigram-50000-TFIDF': 0.9261155815654718, 'DecisionTreeClassifier-TriGram-50000-TFIDF': 0.8924652523774689, 'DecisionTreeClassifier-FourGram-50000-TFIDF': 0.8317483540599854}\n"
          ],
          "name": "stdout"
        },
        {
          "output_type": "stream",
          "text": [
            "\n"
          ],
          "name": "stderr"
        }
      ]
    },
    {
      "cell_type": "code",
      "metadata": {
        "id": "vOaWl7vuQDYf",
        "colab_type": "code",
        "outputId": "1e4daa75-e844-4186-f646-f181f7c769ec",
        "colab": {
          "base_uri": "https://localhost:8080/",
          "height": 88
        }
      },
      "source": [
        "gridsearchcv(DecisionTreeClassifier,'DecisionTreeClassifier')## do this for each model and tF"
      ],
      "execution_count": 0,
      "outputs": [
        {
          "output_type": "stream",
          "text": [
            "100%|██████████| 4/4 [02:10<00:00, 32.63s/it]"
          ],
          "name": "stderr"
        },
        {
          "output_type": "stream",
          "text": [
            "{'DecisionTreeClassifier-Unigram -1000-TFIDF': 0.9934162399414777, 'DecisionTreeClassifier-Bigram-1000-TFIDF': 0.9005120702267739, 'DecisionTreeClassifier-TriGram-1000-TFIDF': 0.888807607900512, 'DecisionTreeClassifier-FourGram-1000-TFIDF': 0.825164594001463, 'DecisionTreeClassifier-Unigram -5000-TFIDF': 0.9912216532553035, 'DecisionTreeClassifier-Bigram-5000-TFIDF': 0.894659839063643, 'DecisionTreeClassifier-TriGram-5000-TFIDF': 0.8917337234820776, 'DecisionTreeClassifier-FourGram-5000-TFIDF': 0.852962692026335, 'DecisionTreeClassifier-Unigram -10000-TFIDF': 0.9912216532553035, 'DecisionTreeClassifier-Bigram-10000-TFIDF': 0.9107534747622531, 'DecisionTreeClassifier-TriGram-10000-TFIDF': 0.8931967812728603, 'DecisionTreeClassifier-FourGram-10000-TFIDF': 0.8288222384784198, 'DecisionTreeClassifier-Unigram -50000-TFIDF': 0.9839063643013899, 'DecisionTreeClassifier-Bigram-50000-TFIDF': 0.9034381858083395, 'DecisionTreeClassifier-TriGram-50000-TFIDF': 0.8895391367959035, 'DecisionTreeClassifier-FourGram-50000-TFIDF': 0.8558888076079005}\n"
          ],
          "name": "stdout"
        },
        {
          "output_type": "stream",
          "text": [
            "\n"
          ],
          "name": "stderr"
        }
      ]
    },
    {
      "cell_type": "code",
      "metadata": {
        "id": "nOzaf0-sQQgk",
        "colab_type": "code",
        "outputId": "2ad54772-681f-4d4b-de7b-dd8fc1cacd3f",
        "colab": {
          "base_uri": "https://localhost:8080/",
          "height": 88
        }
      },
      "source": [
        "gridsearchcv(LogisticRegression,'LogisticRegression',tf=True)## do this for each model and tF"
      ],
      "execution_count": 0,
      "outputs": [
        {
          "output_type": "stream",
          "text": [
            "100%|██████████| 4/4 [01:59<00:00, 29.95s/it]"
          ],
          "name": "stderr"
        },
        {
          "output_type": "stream",
          "text": [
            "{'LogisticRegression-Unigram -1000-TF': 0.9897585954645208, 'LogisticRegression-Bigram-1000-TF': 0.9634235552304315, 'LogisticRegression-TriGram-1000-TF': 0.9158741770299926, 'LogisticRegression-FourGram-1000-TF': 0.831016825164594, 'LogisticRegression-Unigram -5000-TF': 0.9875640087783467, 'LogisticRegression-Bigram-5000-TF': 0.9634235552304315, 'LogisticRegression-TriGram-5000-TF': 0.9414776883686906, 'LogisticRegression-FourGram-5000-TF': 0.8697878566203365, 'LogisticRegression-Unigram -10000-TF': 0.9890270665691295, 'LogisticRegression-Bigram-10000-TF': 0.9692757863935626, 'LogisticRegression-TriGram-10000-TF': 0.9297732260424286, 'LogisticRegression-FourGram-10000-TF': 0.8975859546452085, 'LogisticRegression-Unigram -50000-TF': 0.9868324798829554, 'LogisticRegression-Bigram-50000-TF': 0.9758595464520848, 'LogisticRegression-TriGram-50000-TF': 0.9370885149963424, 'LogisticRegression-FourGram-50000-TF': 0.8997805413313826}\n"
          ],
          "name": "stdout"
        },
        {
          "output_type": "stream",
          "text": [
            "\n"
          ],
          "name": "stderr"
        }
      ]
    },
    {
      "cell_type": "code",
      "metadata": {
        "id": "fzgbypqAQfe2",
        "colab_type": "code",
        "outputId": "d729bc6f-10fc-47ec-9064-305d2cb3a60f",
        "colab": {
          "base_uri": "https://localhost:8080/",
          "height": 88
        }
      },
      "source": [
        "gridsearchcv(LinearSVC,'LinearSVC',tf=True)## do this for each model and tf"
      ],
      "execution_count": 0,
      "outputs": [
        {
          "output_type": "stream",
          "text": [
            "100%|██████████| 4/4 [01:56<00:00, 29.17s/it]"
          ],
          "name": "stderr"
        },
        {
          "output_type": "stream",
          "text": [
            "{'LinearSVC-Unigram -1000-TF': 0.9890270665691295, 'LinearSVC-Bigram-1000-TF': 0.9370885149963424, 'LinearSVC-TriGram-1000-TF': 0.9063643013899049, 'LinearSVC-FourGram-1000-TF': 0.8383321141185077, 'LinearSVC-Unigram -5000-TF': 0.9897585954645208, 'LinearSVC-Bigram-5000-TF': 0.964155084125823, 'LinearSVC-TriGram-5000-TF': 0.9158741770299926, 'LinearSVC-FourGram-5000-TF': 0.866861741038771, 'LinearSVC-Unigram -10000-TF': 0.9926847110460864, 'LinearSVC-Bigram-10000-TF': 0.9765910753474762, 'LinearSVC-TriGram-10000-TF': 0.9268471104608632, 'LinearSVC-FourGram-10000-TF': 0.8873445501097293, 'LinearSVC-Unigram -50000-TF': 0.9897585954645208, 'LinearSVC-Bigram-50000-TF': 0.9700073152889539, 'LinearSVC-TriGram-50000-TF': 0.93050475493782, 'LinearSVC-FourGram-50000-TF': 0.880760790051207}\n"
          ],
          "name": "stdout"
        },
        {
          "output_type": "stream",
          "text": [
            "\n"
          ],
          "name": "stderr"
        }
      ]
    },
    {
      "cell_type": "code",
      "metadata": {
        "id": "koVYJM-rQQSY",
        "colab_type": "code",
        "outputId": "b18408fa-4aa0-432e-9ddd-5dfb188fccd6",
        "colab": {
          "base_uri": "https://localhost:8080/",
          "height": 88
        }
      },
      "source": [
        "gridsearchcv(SGDClassifier,'SGDClassifier',tf=True)## do this for each model and tF"
      ],
      "execution_count": 0,
      "outputs": [
        {
          "output_type": "stream",
          "text": [
            "100%|██████████| 4/4 [01:55<00:00, 28.75s/it]"
          ],
          "name": "stderr"
        },
        {
          "output_type": "stream",
          "text": [
            "{'SGDClassifier-Unigram -1000-TF': 0.9802487198244331, 'SGDClassifier-Bigram-1000-TF': 0.9392831016825165, 'SGDClassifier-TriGram-1000-TF': 0.8961228968544257, 'SGDClassifier-FourGram-1000-TF': 0.839063643013899, 'SGDClassifier-Unigram -5000-TF': 0.9765910753474762, 'SGDClassifier-Bigram-5000-TF': 0.9473299195318216, 'SGDClassifier-TriGram-5000-TF': 0.9326993416239941, 'SGDClassifier-FourGram-5000-TF': 0.8705193855157278, 'SGDClassifier-Unigram -10000-TF': 0.9787856620336504, 'SGDClassifier-Bigram-10000-TF': 0.9648866130212144, 'SGDClassifier-TriGram-10000-TF': 0.9356254572055597, 'SGDClassifier-FourGram-10000-TF': 0.8800292611558157, 'SGDClassifier-Unigram -50000-TF': 0.9809802487198245, 'SGDClassifier-Bigram-50000-TF': 0.9656181419166057, 'SGDClassifier-TriGram-50000-TF': 0.944403803950256, 'SGDClassifier-FourGram-50000-TF': 0.8785662033650329}\n"
          ],
          "name": "stdout"
        },
        {
          "output_type": "stream",
          "text": [
            "\n"
          ],
          "name": "stderr"
        }
      ]
    },
    {
      "cell_type": "code",
      "metadata": {
        "id": "PfLGE7xPQQG3",
        "colab_type": "code",
        "outputId": "a28b7fa9-b5d2-4fd8-97bb-ead9e28a3ca8",
        "colab": {
          "base_uri": "https://localhost:8080/",
          "height": 88
        }
      },
      "source": [
        "gridsearchcv(KNeighborsClassifier,'KNeighborsClassifier',tf=True)## do this for each model and tF"
      ],
      "execution_count": 0,
      "outputs": [
        {
          "output_type": "stream",
          "text": [
            "100%|██████████| 4/4 [01:59<00:00, 29.82s/it]"
          ],
          "name": "stderr"
        },
        {
          "output_type": "stream",
          "text": [
            "{'KNeighborsClassifier-Unigram -1000-TF': 0.8836869056327725, 'KNeighborsClassifier-Bigram-1000-TF': 0.7629846378931968, 'KNeighborsClassifier-TriGram-1000-TF': 0.811265544989027, 'KNeighborsClassifier-FourGram-1000-TF': 0.648134601316752, 'KNeighborsClassifier-Unigram -5000-TF': 0.8902706656912948, 'KNeighborsClassifier-Bigram-5000-TF': 0.6561814191660571, 'KNeighborsClassifier-TriGram-5000-TF': 0.6869056327724945, 'KNeighborsClassifier-FourGram-5000-TF': 0.7073884418434528, 'KNeighborsClassifier-Unigram -10000-TF': 0.8749085588880761, 'KNeighborsClassifier-Bigram-10000-TF': 0.6115581565471836, 'KNeighborsClassifier-TriGram-10000-TF': 0.5954645208485735, 'KNeighborsClassifier-FourGram-10000-TF': 0.6459400146305779, 'KNeighborsClassifier-Unigram -50000-TF': 0.8595464520848574, 'KNeighborsClassifier-Bigram-50000-TF': 0.46232626188734455, 'KNeighborsClassifier-TriGram-50000-TF': 0.3789319678127286, 'KNeighborsClassifier-FourGram-50000-TF': 0.4996342355523043}\n"
          ],
          "name": "stdout"
        },
        {
          "output_type": "stream",
          "text": [
            "\n"
          ],
          "name": "stderr"
        }
      ]
    },
    {
      "cell_type": "code",
      "metadata": {
        "id": "W9RnKwALQP0f",
        "colab_type": "code",
        "outputId": "26a15c57-9462-432f-e685-1802038f9de7",
        "colab": {
          "base_uri": "https://localhost:8080/",
          "height": 88
        }
      },
      "source": [
        "gridsearchcv(DecisionTreeClassifier,'DecisionTreeClassifier',tf=True)## do this for each model and tF"
      ],
      "execution_count": 0,
      "outputs": [
        {
          "output_type": "stream",
          "text": [
            "100%|██████████| 4/4 [02:06<00:00, 31.71s/it]"
          ],
          "name": "stderr"
        },
        {
          "output_type": "stream",
          "text": [
            "{'DecisionTreeClassifier-Unigram -1000-TF': 0.9897585954645208, 'DecisionTreeClassifier-Bigram-1000-TF': 0.8983174835405998, 'DecisionTreeClassifier-TriGram-1000-TF': 0.8697878566203365, 'DecisionTreeClassifier-FourGram-1000-TF': 0.7951719092904169, 'DecisionTreeClassifier-Unigram -5000-TF': 0.9853694220921726, 'DecisionTreeClassifier-Bigram-5000-TF': 0.9173372348207754, 'DecisionTreeClassifier-TriGram-5000-TF': 0.8866130212143379, 'DecisionTreeClassifier-FourGram-5000-TF': 0.8185808339429408, 'DecisionTreeClassifier-Unigram -10000-TF': 0.9890270665691295, 'DecisionTreeClassifier-Bigram-10000-TF': 0.9180687637161667, 'DecisionTreeClassifier-TriGram-10000-TF': 0.880760790051207, 'DecisionTreeClassifier-FourGram-10000-TF': 0.8098024871982443, 'DecisionTreeClassifier-Unigram -50000-TF': 0.9882955376737381, 'DecisionTreeClassifier-Bigram-50000-TF': 0.9173372348207754, 'DecisionTreeClassifier-TriGram-50000-TF': 0.8727139722019019, 'DecisionTreeClassifier-FourGram-50000-TF': 0.8141916605705926}\n"
          ],
          "name": "stdout"
        },
        {
          "output_type": "stream",
          "text": [
            "\n"
          ],
          "name": "stderr"
        }
      ]
    },
    {
      "cell_type": "code",
      "metadata": {
        "id": "e8sf-NK9QPnA",
        "colab_type": "code",
        "outputId": "d2404290-0ba3-4c79-ec7a-5eb2e6c2f98a",
        "colab": {
          "base_uri": "https://localhost:8080/",
          "height": 88
        }
      },
      "source": [
        "gridsearchcv(SVC,'SVC',tf=False)## do this for each model and tF"
      ],
      "execution_count": 0,
      "outputs": [
        {
          "output_type": "stream",
          "text": [
            "100%|██████████| 4/4 [05:09<00:00, 77.26s/it]"
          ],
          "name": "stderr"
        },
        {
          "output_type": "stream",
          "text": [
            "{'SVC-Unigram -1000-TFIDF': 0.9729334308705194, 'SVC-Bigram-1000-TFIDF': 0.9473299195318216, 'SVC-TriGram-1000-TFIDF': 0.908558888076079, 'SVC-FourGram-1000-TFIDF': 0.8295537673738113, 'SVC-Unigram -5000-TFIDF': 0.9743964886613021, 'SVC-Bigram-5000-TFIDF': 0.9575713240673006, 'SVC-TriGram-5000-TFIDF': 0.9173372348207754, 'SVC-FourGram-5000-TFIDF': 0.8778346744696416, 'SVC-Unigram -10000-TFIDF': 0.9700073152889539, 'SVC-Bigram-10000-TFIDF': 0.9656181419166057, 'SVC-TriGram-10000-TFIDF': 0.9136795903438186, 'SVC-FourGram-10000-TFIDF': 0.8741770299926848, 'SVC-Unigram -50000-TFIDF': 0.972201901975128, 'SVC-Bigram-50000-TFIDF': 0.9531821506949525, 'SVC-TriGram-50000-TFIDF': 0.8873445501097293, 'SVC-FourGram-50000-TFIDF': 0.8134601316752011}\n"
          ],
          "name": "stdout"
        },
        {
          "output_type": "stream",
          "text": [
            "\n"
          ],
          "name": "stderr"
        }
      ]
    },
    {
      "cell_type": "code",
      "metadata": {
        "id": "KvkSUOCFQPe4",
        "colab_type": "code",
        "outputId": "5da4fe2c-640d-42a6-92ad-bc184db5da06",
        "colab": {
          "base_uri": "https://localhost:8080/",
          "height": 88
        }
      },
      "source": [
        "gridsearchcv(SVC,'SVC',tf=True)## do this for each model and tF"
      ],
      "execution_count": 0,
      "outputs": [
        {
          "output_type": "stream",
          "text": [
            "100%|██████████| 4/4 [04:04<00:00, 61.05s/it]"
          ],
          "name": "stderr"
        },
        {
          "output_type": "stream",
          "text": [
            "{'SVC-Unigram -1000-TF': 0.9736649597659107, 'SVC-Bigram-1000-TF': 0.9473299195318216, 'SVC-TriGram-1000-TF': 0.8997805413313826, 'SVC-FourGram-1000-TF': 0.817117776152158, 'SVC-Unigram -5000-TF': 0.978054133138259, 'SVC-Bigram-5000-TF': 0.9509875640087784, 'SVC-TriGram-5000-TF': 0.908558888076079, 'SVC-FourGram-5000-TF': 0.8697878566203365, 'SVC-Unigram -10000-TF': 0.978054133138259, 'SVC-Bigram-10000-TF': 0.9436722750548646, 'SVC-TriGram-10000-TF': 0.9283101682516459, 'SVC-FourGram-10000-TF': 0.8734455010972934, 'SVC-Unigram -50000-TF': 0.9795171909290417, 'SVC-Bigram-50000-TF': 0.9458668617410387, 'SVC-TriGram-50000-TF': 0.8983174835405998, 'SVC-FourGram-50000-TF': 0.8368690563277249}\n"
          ],
          "name": "stdout"
        },
        {
          "output_type": "stream",
          "text": [
            "\n"
          ],
          "name": "stderr"
        }
      ]
    },
    {
      "cell_type": "markdown",
      "metadata": {
        "id": "EQ9WYIqMevki",
        "colab_type": "text"
      },
      "source": [
        "# BERT-Using State of the Art to Beat Paper Performance"
      ]
    },
    {
      "cell_type": "code",
      "metadata": {
        "id": "-U9xd3s5h0kN",
        "colab_type": "code",
        "outputId": "ee4aaea0-0b45-49b0-dd24-50ee983e2542",
        "colab": {
          "base_uri": "https://localhost:8080/",
          "height": 51
        }
      },
      "source": [
        "import tensorflow as tf\n",
        "import torch\n",
        "# If there's a GPU available...\n",
        "if torch.cuda.is_available():    \n",
        "\n",
        "    # Tell PyTorch to use the GPU.    \n",
        "    device = torch.device(\"cuda\")\n",
        "\n",
        "    print('There are %d GPU(s) available.' % torch.cuda.device_count())\n",
        "\n",
        "    print('We will use the GPU:', torch.cuda.get_device_name(0))\n",
        "\n",
        "# If not...\n",
        "else:\n",
        "    print('No GPU available, using the CPU instead.')\n",
        "    device = torch.device(\"cpu\")\n",
        "    \n"
      ],
      "execution_count": 0,
      "outputs": [
        {
          "output_type": "stream",
          "text": [
            "There are 1 GPU(s) available.\n",
            "We will use the GPU: Tesla P100-PCIE-16GB\n"
          ],
          "name": "stdout"
        }
      ]
    },
    {
      "cell_type": "code",
      "metadata": {
        "id": "ikM44oqJ3NN6",
        "colab_type": "code",
        "outputId": "517eff3c-19a9-4f54-e26a-d8f772f6fc03",
        "colab": {
          "base_uri": "https://localhost:8080/",
          "height": 683
        }
      },
      "source": [
        "!pip install transformers"
      ],
      "execution_count": 0,
      "outputs": [
        {
          "output_type": "stream",
          "text": [
            "Collecting transformers\n",
            "\u001b[?25l  Downloading https://files.pythonhosted.org/packages/37/ba/dda44bbf35b071441635708a3dd568a5ca6bf29f77389f7c7c6818ae9498/transformers-2.7.0-py3-none-any.whl (544kB)\n",
            "\r\u001b[K     |▋                               | 10kB 24.2MB/s eta 0:00:01\r\u001b[K     |█▏                              | 20kB 2.1MB/s eta 0:00:01\r\u001b[K     |█▉                              | 30kB 2.7MB/s eta 0:00:01\r\u001b[K     |██▍                             | 40kB 2.0MB/s eta 0:00:01\r\u001b[K     |███                             | 51kB 2.3MB/s eta 0:00:01\r\u001b[K     |███▋                            | 61kB 2.7MB/s eta 0:00:01\r\u001b[K     |████▏                           | 71kB 2.9MB/s eta 0:00:01\r\u001b[K     |████▉                           | 81kB 3.0MB/s eta 0:00:01\r\u001b[K     |█████▍                          | 92kB 3.3MB/s eta 0:00:01\r\u001b[K     |██████                          | 102kB 3.2MB/s eta 0:00:01\r\u001b[K     |██████▋                         | 112kB 3.2MB/s eta 0:00:01\r\u001b[K     |███████▏                        | 122kB 3.2MB/s eta 0:00:01\r\u001b[K     |███████▉                        | 133kB 3.2MB/s eta 0:00:01\r\u001b[K     |████████▍                       | 143kB 3.2MB/s eta 0:00:01\r\u001b[K     |█████████                       | 153kB 3.2MB/s eta 0:00:01\r\u001b[K     |█████████▋                      | 163kB 3.2MB/s eta 0:00:01\r\u001b[K     |██████████▎                     | 174kB 3.2MB/s eta 0:00:01\r\u001b[K     |██████████▉                     | 184kB 3.2MB/s eta 0:00:01\r\u001b[K     |███████████▍                    | 194kB 3.2MB/s eta 0:00:01\r\u001b[K     |████████████                    | 204kB 3.2MB/s eta 0:00:01\r\u001b[K     |████████████▋                   | 215kB 3.2MB/s eta 0:00:01\r\u001b[K     |█████████████▎                  | 225kB 3.2MB/s eta 0:00:01\r\u001b[K     |█████████████▉                  | 235kB 3.2MB/s eta 0:00:01\r\u001b[K     |██████████████▍                 | 245kB 3.2MB/s eta 0:00:01\r\u001b[K     |███████████████                 | 256kB 3.2MB/s eta 0:00:01\r\u001b[K     |███████████████▋                | 266kB 3.2MB/s eta 0:00:01\r\u001b[K     |████████████████▎               | 276kB 3.2MB/s eta 0:00:01\r\u001b[K     |████████████████▉               | 286kB 3.2MB/s eta 0:00:01\r\u001b[K     |█████████████████▌              | 296kB 3.2MB/s eta 0:00:01\r\u001b[K     |██████████████████              | 307kB 3.2MB/s eta 0:00:01\r\u001b[K     |██████████████████▋             | 317kB 3.2MB/s eta 0:00:01\r\u001b[K     |███████████████████▎            | 327kB 3.2MB/s eta 0:00:01\r\u001b[K     |███████████████████▉            | 337kB 3.2MB/s eta 0:00:01\r\u001b[K     |████████████████████▌           | 348kB 3.2MB/s eta 0:00:01\r\u001b[K     |█████████████████████           | 358kB 3.2MB/s eta 0:00:01\r\u001b[K     |█████████████████████▋          | 368kB 3.2MB/s eta 0:00:01\r\u001b[K     |██████████████████████▎         | 378kB 3.2MB/s eta 0:00:01\r\u001b[K     |██████████████████████▉         | 389kB 3.2MB/s eta 0:00:01\r\u001b[K     |███████████████████████▌        | 399kB 3.2MB/s eta 0:00:01\r\u001b[K     |████████████████████████        | 409kB 3.2MB/s eta 0:00:01\r\u001b[K     |████████████████████████▊       | 419kB 3.2MB/s eta 0:00:01\r\u001b[K     |█████████████████████████▎      | 430kB 3.2MB/s eta 0:00:01\r\u001b[K     |█████████████████████████▉      | 440kB 3.2MB/s eta 0:00:01\r\u001b[K     |██████████████████████████▌     | 450kB 3.2MB/s eta 0:00:01\r\u001b[K     |███████████████████████████     | 460kB 3.2MB/s eta 0:00:01\r\u001b[K     |███████████████████████████▊    | 471kB 3.2MB/s eta 0:00:01\r\u001b[K     |████████████████████████████▎   | 481kB 3.2MB/s eta 0:00:01\r\u001b[K     |████████████████████████████▉   | 491kB 3.2MB/s eta 0:00:01\r\u001b[K     |█████████████████████████████▌  | 501kB 3.2MB/s eta 0:00:01\r\u001b[K     |██████████████████████████████  | 512kB 3.2MB/s eta 0:00:01\r\u001b[K     |██████████████████████████████▊ | 522kB 3.2MB/s eta 0:00:01\r\u001b[K     |███████████████████████████████▎| 532kB 3.2MB/s eta 0:00:01\r\u001b[K     |████████████████████████████████| 542kB 3.2MB/s eta 0:00:01\r\u001b[K     |████████████████████████████████| 552kB 3.2MB/s \n",
            "\u001b[?25hRequirement already satisfied: boto3 in /usr/local/lib/python3.6/dist-packages (from transformers) (1.12.31)\n",
            "Requirement already satisfied: tqdm>=4.27 in /usr/local/lib/python3.6/dist-packages (from transformers) (4.38.0)\n",
            "Requirement already satisfied: regex!=2019.12.17 in /usr/local/lib/python3.6/dist-packages (from transformers) (2019.12.20)\n",
            "Collecting sentencepiece\n",
            "\u001b[?25l  Downloading https://files.pythonhosted.org/packages/74/f4/2d5214cbf13d06e7cb2c20d84115ca25b53ea76fa1f0ade0e3c9749de214/sentencepiece-0.1.85-cp36-cp36m-manylinux1_x86_64.whl (1.0MB)\n",
            "\u001b[K     |████████████████████████████████| 1.0MB 10.9MB/s \n",
            "\u001b[?25hRequirement already satisfied: filelock in /usr/local/lib/python3.6/dist-packages (from transformers) (3.0.12)\n",
            "Collecting sacremoses\n",
            "\u001b[?25l  Downloading https://files.pythonhosted.org/packages/a6/b4/7a41d630547a4afd58143597d5a49e07bfd4c42914d8335b2a5657efc14b/sacremoses-0.0.38.tar.gz (860kB)\n",
            "\u001b[K     |████████████████████████████████| 870kB 20.6MB/s \n",
            "\u001b[?25hRequirement already satisfied: dataclasses; python_version < \"3.7\" in /usr/local/lib/python3.6/dist-packages (from transformers) (0.7)\n",
            "Requirement already satisfied: requests in /usr/local/lib/python3.6/dist-packages (from transformers) (2.21.0)\n",
            "Collecting tokenizers==0.5.2\n",
            "\u001b[?25l  Downloading https://files.pythonhosted.org/packages/d1/3f/73c881ea4723e43c1e9acf317cf407fab3a278daab3a69c98dcac511c04f/tokenizers-0.5.2-cp36-cp36m-manylinux1_x86_64.whl (3.7MB)\n",
            "\u001b[K     |████████████████████████████████| 3.7MB 28.8MB/s \n",
            "\u001b[?25hRequirement already satisfied: numpy in /usr/local/lib/python3.6/dist-packages (from transformers) (1.18.2)\n",
            "Requirement already satisfied: jmespath<1.0.0,>=0.7.1 in /usr/local/lib/python3.6/dist-packages (from boto3->transformers) (0.9.5)\n",
            "Requirement already satisfied: s3transfer<0.4.0,>=0.3.0 in /usr/local/lib/python3.6/dist-packages (from boto3->transformers) (0.3.3)\n",
            "Requirement already satisfied: botocore<1.16.0,>=1.15.31 in /usr/local/lib/python3.6/dist-packages (from boto3->transformers) (1.15.31)\n",
            "Requirement already satisfied: six in /usr/local/lib/python3.6/dist-packages (from sacremoses->transformers) (1.12.0)\n",
            "Requirement already satisfied: click in /usr/local/lib/python3.6/dist-packages (from sacremoses->transformers) (7.1.1)\n",
            "Requirement already satisfied: joblib in /usr/local/lib/python3.6/dist-packages (from sacremoses->transformers) (0.14.1)\n",
            "Requirement already satisfied: idna<2.9,>=2.5 in /usr/local/lib/python3.6/dist-packages (from requests->transformers) (2.8)\n",
            "Requirement already satisfied: chardet<3.1.0,>=3.0.2 in /usr/local/lib/python3.6/dist-packages (from requests->transformers) (3.0.4)\n",
            "Requirement already satisfied: urllib3<1.25,>=1.21.1 in /usr/local/lib/python3.6/dist-packages (from requests->transformers) (1.24.3)\n",
            "Requirement already satisfied: certifi>=2017.4.17 in /usr/local/lib/python3.6/dist-packages (from requests->transformers) (2019.11.28)\n",
            "Requirement already satisfied: python-dateutil<3.0.0,>=2.1 in /usr/local/lib/python3.6/dist-packages (from botocore<1.16.0,>=1.15.31->boto3->transformers) (2.8.1)\n",
            "Requirement already satisfied: docutils<0.16,>=0.10 in /usr/local/lib/python3.6/dist-packages (from botocore<1.16.0,>=1.15.31->boto3->transformers) (0.15.2)\n",
            "Building wheels for collected packages: sacremoses\n",
            "  Building wheel for sacremoses (setup.py) ... \u001b[?25l\u001b[?25hdone\n",
            "  Created wheel for sacremoses: filename=sacremoses-0.0.38-cp36-none-any.whl size=884628 sha256=bf6795db0167da9d58fed565f5b969799e3ff6ee6fec8358309cc1334825c67e\n",
            "  Stored in directory: /root/.cache/pip/wheels/6d/ec/1a/21b8912e35e02741306f35f66c785f3afe94de754a0eaf1422\n",
            "Successfully built sacremoses\n",
            "Installing collected packages: sentencepiece, sacremoses, tokenizers, transformers\n",
            "Successfully installed sacremoses-0.0.38 sentencepiece-0.1.85 tokenizers-0.5.2 transformers-2.7.0\n"
          ],
          "name": "stdout"
        }
      ]
    },
    {
      "cell_type": "code",
      "metadata": {
        "id": "TZlIA8O_3Qh9",
        "colab_type": "code",
        "outputId": "4987f6c8-e5e6-4d2a-9f51-772ec16fa1d1",
        "colab": {
          "base_uri": "https://localhost:8080/",
          "height": 83,
          "referenced_widgets": [
            "b70c00fd1c0e45f39a46c136e4272297",
            "6e7c58bd54fe42b68d5248094e831a21",
            "08fcf49f16074c4ead49cc9e24b305ba",
            "cbfe1742436243d9aeda133dcea400f0",
            "ee04a3eed2e44c0ca41911ea70aa02a6",
            "155b9ab343684b1294f7eddc25dc0f6a",
            "885f425ef9a14698acf9b07e943aca5f",
            "beb87c9a9853438d876252b4ad107aaa"
          ]
        }
      },
      "source": [
        "from transformers import BertTokenizer\n",
        "\n",
        "# Load the BERT tokenizer.\n",
        "print('Loading BERT tokenizer...')\n",
        "tokenizer = BertTokenizer.from_pretrained('bert-base-uncased', do_lower_case=True)"
      ],
      "execution_count": 0,
      "outputs": [
        {
          "output_type": "stream",
          "text": [
            "Loading BERT tokenizer...\n"
          ],
          "name": "stdout"
        },
        {
          "output_type": "display_data",
          "data": {
            "application/vnd.jupyter.widget-view+json": {
              "model_id": "b70c00fd1c0e45f39a46c136e4272297",
              "version_minor": 0,
              "version_major": 2
            },
            "text/plain": [
              "HBox(children=(IntProgress(value=0, description='Downloading', max=231508, style=ProgressStyle(description_wid…"
            ]
          },
          "metadata": {
            "tags": []
          }
        },
        {
          "output_type": "stream",
          "text": [
            "\n"
          ],
          "name": "stdout"
        }
      ]
    },
    {
      "cell_type": "code",
      "metadata": {
        "id": "33f84TEE3Wx_",
        "colab_type": "code",
        "outputId": "474f2e14-27db-4618-c2d6-2e252ecad094",
        "colab": {
          "base_uri": "https://localhost:8080/",
          "height": 173
        }
      },
      "source": [
        "# Tokenize all of the sentences and map the tokens to thier word IDs.\n",
        "input_ids = []\n",
        "attention_masks = []\n",
        "\n",
        "# For every sentence...\n",
        "for sent in tqdm(X):\n",
        "    # `encode_plus` will:\n",
        "    #   (1) Tokenize the sentence.\n",
        "    #   (2) Prepend the `[CLS]` token to the start.\n",
        "    #   (3) Append the `[SEP]` token to the end.\n",
        "    #   (4) Map tokens to their IDs.\n",
        "    #   (5) Pad or truncate the sentence to `max_length`\n",
        "    #   (6) Create attention masks for [PAD] tokens.\n",
        "    encoded_dict = tokenizer.encode_plus(\n",
        "                        sent,                      # Sentence to encode.\n",
        "                        add_special_tokens = True, # Add '[CLS]' and '[SEP]'\n",
        "                        max_length = 64,           # Pad & truncate all sentences.\n",
        "                        pad_to_max_length = True,\n",
        "                        return_attention_mask = True,   # Construct attn. masks.\n",
        "                        return_tensors = 'pt',     # Return pytorch tensors.\n",
        "                   )\n",
        "    \n",
        "    # Add the encoded sentence to the list.    \n",
        "    input_ids.append(encoded_dict['input_ids'])\n",
        "    \n",
        "    # And its attention mask (simply differentiates padding from non-padding).\n",
        "    attention_masks.append(encoded_dict['attention_mask'])\n",
        "\n",
        "# Convert the lists into tensors.\n",
        "input_ids = torch.cat(input_ids, dim=0)\n",
        "attention_masks = torch.cat(attention_masks, dim=0)\n",
        "labels = torch.tensor(y)\n",
        "\n",
        "# Print sentence 0, now as a list of IDs.\n",
        "print('Original: ', X[0])\n",
        "print('Token IDs:', input_ids[0])"
      ],
      "execution_count": 0,
      "outputs": [
        {
          "output_type": "stream",
          "text": [
            "Original:  WASHINGTON Reuters President Donald Trump may order review could lead bringing back CIA program holding terrorism suspect secret overseas “ black site ” prison interrogation technique often condemned torture used two U.S. official said Wednesday The black site used detain suspect captured President George W. Bush ’ “ war terrorism ” Sept. attack formally closed former President Barack Obama Any return Bush administration ’ initial anti-terrorism tactic including secret prison interrogation method considered torture international law would likely alienate key U.S. ally fight militant group like al Qaeda Islamic State The official said Trump expected sign executive order next day It would call high-level review “ whether reinitiate program interrogation high-value alien terrorist operated outside United States ” whether CIA run facility according copy draft published Washington Post Reuters could independently verify document Trump administration spokesman Sean Spicer said draft White House document The draft published Washington Post appeared section missing suggesting may full version ready Trump sign U.S. House Representatives Speaker Paul Ryan said Trump administration write document “ My understanding written somebody worked transition ’ Trump administration This product administration ” Ryan said interview MSNBC Aides Obama said tenure prohibition torture effort close Guantanamo prison Cuba helped increase counterterrorism cooperation U.S. ally Arab world The now-defunct program ’ practice dubbed enhanced interrogation technique included simulated drowning known waterboarding criticized around world denounced Obama senior U.S. official torture The document ignited bipartisan outcry Congress Many people U.S. intelligence agency within military opposed reopening harsh interrogation program according multiple serving officer “ The President sign whatever executive order like But law law We bringing back torture United States America ” Senator John McCain Republican underwent torture prisoner war Vietnam said statement The CIA black site located Poland Lithuania Romania Thailand Afghanistan In Bush ended use harsh interrogation technique closed black site except one Kabul Asked whether want waterboarding president Trump answered interview ABC News “ I rely CIA director Mike Pompeo Defense Secretary James Mattis group And ’ want ’ fine If want I work toward end ” Trump said “ I want everything within bound ’ allowed ’ legal If ’ want ’ fine Do I feel work Absolutely I feel works. ” Mattis Pompeo aware plan work according congressional source Trump ’ draft order would authorize review interrogation technique U.S. official could use terrorism suspect keep open detention center U.S. naval base Guantanamo Bay Cuba send new prisoner Trump ’ draft also revoke directive Obama grant International Committee Red Cross access detainee U.S. custody restrict interrogation method U.S. Army field manual Trump vowed election campaign resume waterboarding “ hell lot worse ” even torture work “ deserve anyway. ” He said wanted keep Guantanamo open “ load bad dudes. ” Of prisoner left Guantanamo face charge war-crimes proceeding known military commission including Khalid Sheikh Mohammed accused mastermind Sept. attack alleged co-conspirators Bush established military commission Obama later changed The draft order said “ No person custody United States shall time subjected torture cruel inhuman degrading treatment punishment proscribed U.S. law. ” It mention international law United States signatory prohibit torture Congress passed National Defense Authorization Act reaffirmed prohibition torture required U.S. interrogator adhere technique Army field manual However Justice Department Trump could issue interpretation U.S. law allows use harsh interrogation technique occurred “ torture memo ” drafted Bush administration subsequently withdrawn Despite killing al Qaeda leader Osama bin Laden Obama ’ presidency dramatic spread group like Islamic State exacerbated threat violent Islamist organization In statement accompanying draft order administration criticizes Obama ’ policy saying “ The United States refrained exercising certain authority critical defense. ” But acknowledges National Defense Authorization Act “ provides significant statutory barrier resumption CIA interrogation program. ” Human right group decried attempt bring back black site “ This extremely disturbing outrageous attempt open door systematic torture secret detention This Trump administration making good worrisome comment campaign ” said Naureen Shah Amnesty International USA ’ director national security human right Critics say return harsh interrogation would enflame tension Muslim country counterproductive In draft document reference “ global war terrorism ” edited replaced phrase “ fight radical Islamism ” reflecting language Trump often us A former senior U.S. intelligence official requested anonymity said many CIA officer would oppose reinstatement black site interrogation part forced obtain lawyer withdrawal Justice Department memo legalized harsh technique “ People felt hung dry ” former official said “ There lack trust there. ” Moreover said would extremely difficult persuade government allow CIA establish secret prison soil “ Where going ” asked “ How many country going jump back U.S. lap Trump ’ order enacted could put new CIA Director Pompeo tight spot given workforce according multiple serving officer largely opposes reinstating black site program It could also complicate confirmation Trump ’ nominee job director national intelligence former U.S Senator Dan Coats As conservative Republican congressman Kansas Pompeo defended CIA ’ use harsh interrogation technique arguing produced useful intelligence During confirmation hearing CIA director pledged would “ absolutely ” reinstate method Yet written response question Senate Intelligence Committee member appeared leave door open restoring “ If expert believed current law impediment gathering vital intelligence protect country I would want understand impediment whether recommendation appropriate changing current law ” Pompeo wrote\n",
            "Token IDs: tensor([  101,  2899, 26665,  2343,  6221,  8398,  2089,  2344,  3319,  2071,\n",
            "         2599,  5026,  2067,  9915,  2565,  3173, 10130,  8343,  3595,  6931,\n",
            "         1523,  2304,  2609,  1524,  3827, 16871,  6028,  2411, 10033,  8639,\n",
            "         2109,  2048,  1057,  1012,  1055,  1012,  2880,  2056,  9317,  1996,\n",
            "         2304,  2609,  2109, 20010,  8113,  8343,  4110,  2343,  2577,  1059,\n",
            "         1012,  5747,  1521,  1523,  2162, 10130,  1524, 17419,  1012,  2886,\n",
            "         6246,  2701,  2280,   102])\n"
          ],
          "name": "stdout"
        }
      ]
    },
    {
      "cell_type": "code",
      "metadata": {
        "id": "O8MJIJ3L3n9F",
        "colab_type": "code",
        "outputId": "3a1b9cb2-bb1f-467e-a860-b6836894c8b3",
        "colab": {
          "base_uri": "https://localhost:8080/",
          "height": 51
        }
      },
      "source": [
        "from torch.utils.data import TensorDataset, random_split\n",
        "\n",
        "# Combine the training inputs into a TensorDataset.\n",
        "dataset = TensorDataset(input_ids, attention_masks, labels)\n",
        "\n",
        "# Create a 90-10 train-validation split.\n",
        "\n",
        "# Calculate the number of samples to include in each set.\n",
        "train_size = int(0.9 * len(dataset))\n",
        "val_size = len(dataset) - train_size\n",
        "\n",
        "# Divide the dataset by randomly selecting samples.\n",
        "train_dataset, val_dataset = random_split(dataset, [train_size, val_size])\n",
        "\n",
        "print('{:>5,} training samples'.format(train_size))\n",
        "print('{:>5,} validation samples'.format(val_size))"
      ],
      "execution_count": 0,
      "outputs": [
        {
          "output_type": "stream",
          "text": [
            "80,816 training samples\n",
            "8,980 validation samples\n"
          ],
          "name": "stdout"
        }
      ]
    },
    {
      "cell_type": "code",
      "metadata": {
        "id": "om98h68p3r8w",
        "colab_type": "code",
        "colab": {}
      },
      "source": [
        "from torch.utils.data import DataLoader, RandomSampler, SequentialSampler\n",
        "\n",
        "# The DataLoader needs to know our batch size for training, so we specify it \n",
        "# here. For fine-tuning BERT on a specific task, the authors recommend a batch \n",
        "# size of 16 or 32.\n",
        "batch_size = 32\n",
        "\n",
        "# Create the DataLoaders for our training and validation sets.\n",
        "# We'll take training samples in random order. \n",
        "train_dataloader = DataLoader(\n",
        "            train_dataset,  # The training samples.\n",
        "            sampler = RandomSampler(train_dataset), # Select batches randomly\n",
        "            batch_size = batch_size # Trains with this batch size.\n",
        "        )\n",
        "\n",
        "# For validation the order doesn't matter, so we'll just read them sequentially.\n",
        "validation_dataloader = DataLoader(\n",
        "            val_dataset, # The validation samples.\n",
        "            sampler = SequentialSampler(val_dataset), # Pull out batches sequentially.\n",
        "            batch_size = batch_size # Evaluate with this batch size.\n",
        "        )"
      ],
      "execution_count": 0,
      "outputs": []
    },
    {
      "cell_type": "code",
      "metadata": {
        "id": "xRTzyYi93wRP",
        "colab_type": "code",
        "outputId": "493f8836-8d0f-43dc-dcfb-7547957ea859",
        "colab": {
          "base_uri": "https://localhost:8080/",
          "height": 1000,
          "referenced_widgets": [
            "c4ea73acaabf4511a406511d2d3232fe",
            "dc7037896f3c41d0877374bcf7950606",
            "810671c36ef440ef80194700b21d6418",
            "7eaa8d9f5a784f8994d65df18a011985",
            "c44c0fa668fe4bd8aaa259cc338c06af",
            "8c69805da4ca4a728a8e754052c46cfd",
            "9a39456913b74d9eb5831a60cdcedd8a",
            "3d8668b9e6614d67b31f7f743634ee0d",
            "caf757de889a461f9165fef544dce885",
            "2ffe300380834ce88537424f56520cf5",
            "539f7f9ad5ac485da8eeae63c7415f53",
            "6b49d7450a7f414aa17a0fbdcbc4d4bc",
            "fd8482f377f84c20af4a66b1938f441b",
            "799d862947a94623b7a0be1a40072e3d",
            "e2d15f096cca406b9cc6f67468e9aba0",
            "39dc65c099414eed82324b7ae7d94ee3"
          ]
        }
      },
      "source": [
        "from transformers import BertForSequenceClassification, AdamW, BertConfig\n",
        "\n",
        "# Load BertForSequenceClassification, the pretrained BERT model with a single \n",
        "# linear classification layer on top. \n",
        "model = BertForSequenceClassification.from_pretrained(\n",
        "    \"bert-base-uncased\", # Use the 12-layer BERT model, with an uncased vocab.\n",
        "    num_labels = 2, # The number of output labels--2 for binary classification.\n",
        "                    # You can increase this for multi-class tasks.   \n",
        "    output_attentions = False, # Whether the model returns attentions weights.\n",
        "    output_hidden_states = False, # Whether the model returns all hidden-states.\n",
        ")\n",
        "\n",
        "# Tell pytorch to run this model on the GPU.\n",
        "model.cuda()"
      ],
      "execution_count": 0,
      "outputs": [
        {
          "output_type": "display_data",
          "data": {
            "application/vnd.jupyter.widget-view+json": {
              "model_id": "c4ea73acaabf4511a406511d2d3232fe",
              "version_minor": 0,
              "version_major": 2
            },
            "text/plain": [
              "HBox(children=(IntProgress(value=0, description='Downloading', max=361, style=ProgressStyle(description_width=…"
            ]
          },
          "metadata": {
            "tags": []
          }
        },
        {
          "output_type": "stream",
          "text": [
            "\n"
          ],
          "name": "stdout"
        },
        {
          "output_type": "display_data",
          "data": {
            "application/vnd.jupyter.widget-view+json": {
              "model_id": "caf757de889a461f9165fef544dce885",
              "version_minor": 0,
              "version_major": 2
            },
            "text/plain": [
              "HBox(children=(IntProgress(value=0, description='Downloading', max=440473133, style=ProgressStyle(description_…"
            ]
          },
          "metadata": {
            "tags": []
          }
        },
        {
          "output_type": "stream",
          "text": [
            "\n"
          ],
          "name": "stdout"
        },
        {
          "output_type": "execute_result",
          "data": {
            "text/plain": [
              "BertForSequenceClassification(\n",
              "  (bert): BertModel(\n",
              "    (embeddings): BertEmbeddings(\n",
              "      (word_embeddings): Embedding(30522, 768, padding_idx=0)\n",
              "      (position_embeddings): Embedding(512, 768)\n",
              "      (token_type_embeddings): Embedding(2, 768)\n",
              "      (LayerNorm): LayerNorm((768,), eps=1e-12, elementwise_affine=True)\n",
              "      (dropout): Dropout(p=0.1, inplace=False)\n",
              "    )\n",
              "    (encoder): BertEncoder(\n",
              "      (layer): ModuleList(\n",
              "        (0): BertLayer(\n",
              "          (attention): BertAttention(\n",
              "            (self): BertSelfAttention(\n",
              "              (query): Linear(in_features=768, out_features=768, bias=True)\n",
              "              (key): Linear(in_features=768, out_features=768, bias=True)\n",
              "              (value): Linear(in_features=768, out_features=768, bias=True)\n",
              "              (dropout): Dropout(p=0.1, inplace=False)\n",
              "            )\n",
              "            (output): BertSelfOutput(\n",
              "              (dense): Linear(in_features=768, out_features=768, bias=True)\n",
              "              (LayerNorm): LayerNorm((768,), eps=1e-12, elementwise_affine=True)\n",
              "              (dropout): Dropout(p=0.1, inplace=False)\n",
              "            )\n",
              "          )\n",
              "          (intermediate): BertIntermediate(\n",
              "            (dense): Linear(in_features=768, out_features=3072, bias=True)\n",
              "          )\n",
              "          (output): BertOutput(\n",
              "            (dense): Linear(in_features=3072, out_features=768, bias=True)\n",
              "            (LayerNorm): LayerNorm((768,), eps=1e-12, elementwise_affine=True)\n",
              "            (dropout): Dropout(p=0.1, inplace=False)\n",
              "          )\n",
              "        )\n",
              "        (1): BertLayer(\n",
              "          (attention): BertAttention(\n",
              "            (self): BertSelfAttention(\n",
              "              (query): Linear(in_features=768, out_features=768, bias=True)\n",
              "              (key): Linear(in_features=768, out_features=768, bias=True)\n",
              "              (value): Linear(in_features=768, out_features=768, bias=True)\n",
              "              (dropout): Dropout(p=0.1, inplace=False)\n",
              "            )\n",
              "            (output): BertSelfOutput(\n",
              "              (dense): Linear(in_features=768, out_features=768, bias=True)\n",
              "              (LayerNorm): LayerNorm((768,), eps=1e-12, elementwise_affine=True)\n",
              "              (dropout): Dropout(p=0.1, inplace=False)\n",
              "            )\n",
              "          )\n",
              "          (intermediate): BertIntermediate(\n",
              "            (dense): Linear(in_features=768, out_features=3072, bias=True)\n",
              "          )\n",
              "          (output): BertOutput(\n",
              "            (dense): Linear(in_features=3072, out_features=768, bias=True)\n",
              "            (LayerNorm): LayerNorm((768,), eps=1e-12, elementwise_affine=True)\n",
              "            (dropout): Dropout(p=0.1, inplace=False)\n",
              "          )\n",
              "        )\n",
              "        (2): BertLayer(\n",
              "          (attention): BertAttention(\n",
              "            (self): BertSelfAttention(\n",
              "              (query): Linear(in_features=768, out_features=768, bias=True)\n",
              "              (key): Linear(in_features=768, out_features=768, bias=True)\n",
              "              (value): Linear(in_features=768, out_features=768, bias=True)\n",
              "              (dropout): Dropout(p=0.1, inplace=False)\n",
              "            )\n",
              "            (output): BertSelfOutput(\n",
              "              (dense): Linear(in_features=768, out_features=768, bias=True)\n",
              "              (LayerNorm): LayerNorm((768,), eps=1e-12, elementwise_affine=True)\n",
              "              (dropout): Dropout(p=0.1, inplace=False)\n",
              "            )\n",
              "          )\n",
              "          (intermediate): BertIntermediate(\n",
              "            (dense): Linear(in_features=768, out_features=3072, bias=True)\n",
              "          )\n",
              "          (output): BertOutput(\n",
              "            (dense): Linear(in_features=3072, out_features=768, bias=True)\n",
              "            (LayerNorm): LayerNorm((768,), eps=1e-12, elementwise_affine=True)\n",
              "            (dropout): Dropout(p=0.1, inplace=False)\n",
              "          )\n",
              "        )\n",
              "        (3): BertLayer(\n",
              "          (attention): BertAttention(\n",
              "            (self): BertSelfAttention(\n",
              "              (query): Linear(in_features=768, out_features=768, bias=True)\n",
              "              (key): Linear(in_features=768, out_features=768, bias=True)\n",
              "              (value): Linear(in_features=768, out_features=768, bias=True)\n",
              "              (dropout): Dropout(p=0.1, inplace=False)\n",
              "            )\n",
              "            (output): BertSelfOutput(\n",
              "              (dense): Linear(in_features=768, out_features=768, bias=True)\n",
              "              (LayerNorm): LayerNorm((768,), eps=1e-12, elementwise_affine=True)\n",
              "              (dropout): Dropout(p=0.1, inplace=False)\n",
              "            )\n",
              "          )\n",
              "          (intermediate): BertIntermediate(\n",
              "            (dense): Linear(in_features=768, out_features=3072, bias=True)\n",
              "          )\n",
              "          (output): BertOutput(\n",
              "            (dense): Linear(in_features=3072, out_features=768, bias=True)\n",
              "            (LayerNorm): LayerNorm((768,), eps=1e-12, elementwise_affine=True)\n",
              "            (dropout): Dropout(p=0.1, inplace=False)\n",
              "          )\n",
              "        )\n",
              "        (4): BertLayer(\n",
              "          (attention): BertAttention(\n",
              "            (self): BertSelfAttention(\n",
              "              (query): Linear(in_features=768, out_features=768, bias=True)\n",
              "              (key): Linear(in_features=768, out_features=768, bias=True)\n",
              "              (value): Linear(in_features=768, out_features=768, bias=True)\n",
              "              (dropout): Dropout(p=0.1, inplace=False)\n",
              "            )\n",
              "            (output): BertSelfOutput(\n",
              "              (dense): Linear(in_features=768, out_features=768, bias=True)\n",
              "              (LayerNorm): LayerNorm((768,), eps=1e-12, elementwise_affine=True)\n",
              "              (dropout): Dropout(p=0.1, inplace=False)\n",
              "            )\n",
              "          )\n",
              "          (intermediate): BertIntermediate(\n",
              "            (dense): Linear(in_features=768, out_features=3072, bias=True)\n",
              "          )\n",
              "          (output): BertOutput(\n",
              "            (dense): Linear(in_features=3072, out_features=768, bias=True)\n",
              "            (LayerNorm): LayerNorm((768,), eps=1e-12, elementwise_affine=True)\n",
              "            (dropout): Dropout(p=0.1, inplace=False)\n",
              "          )\n",
              "        )\n",
              "        (5): BertLayer(\n",
              "          (attention): BertAttention(\n",
              "            (self): BertSelfAttention(\n",
              "              (query): Linear(in_features=768, out_features=768, bias=True)\n",
              "              (key): Linear(in_features=768, out_features=768, bias=True)\n",
              "              (value): Linear(in_features=768, out_features=768, bias=True)\n",
              "              (dropout): Dropout(p=0.1, inplace=False)\n",
              "            )\n",
              "            (output): BertSelfOutput(\n",
              "              (dense): Linear(in_features=768, out_features=768, bias=True)\n",
              "              (LayerNorm): LayerNorm((768,), eps=1e-12, elementwise_affine=True)\n",
              "              (dropout): Dropout(p=0.1, inplace=False)\n",
              "            )\n",
              "          )\n",
              "          (intermediate): BertIntermediate(\n",
              "            (dense): Linear(in_features=768, out_features=3072, bias=True)\n",
              "          )\n",
              "          (output): BertOutput(\n",
              "            (dense): Linear(in_features=3072, out_features=768, bias=True)\n",
              "            (LayerNorm): LayerNorm((768,), eps=1e-12, elementwise_affine=True)\n",
              "            (dropout): Dropout(p=0.1, inplace=False)\n",
              "          )\n",
              "        )\n",
              "        (6): BertLayer(\n",
              "          (attention): BertAttention(\n",
              "            (self): BertSelfAttention(\n",
              "              (query): Linear(in_features=768, out_features=768, bias=True)\n",
              "              (key): Linear(in_features=768, out_features=768, bias=True)\n",
              "              (value): Linear(in_features=768, out_features=768, bias=True)\n",
              "              (dropout): Dropout(p=0.1, inplace=False)\n",
              "            )\n",
              "            (output): BertSelfOutput(\n",
              "              (dense): Linear(in_features=768, out_features=768, bias=True)\n",
              "              (LayerNorm): LayerNorm((768,), eps=1e-12, elementwise_affine=True)\n",
              "              (dropout): Dropout(p=0.1, inplace=False)\n",
              "            )\n",
              "          )\n",
              "          (intermediate): BertIntermediate(\n",
              "            (dense): Linear(in_features=768, out_features=3072, bias=True)\n",
              "          )\n",
              "          (output): BertOutput(\n",
              "            (dense): Linear(in_features=3072, out_features=768, bias=True)\n",
              "            (LayerNorm): LayerNorm((768,), eps=1e-12, elementwise_affine=True)\n",
              "            (dropout): Dropout(p=0.1, inplace=False)\n",
              "          )\n",
              "        )\n",
              "        (7): BertLayer(\n",
              "          (attention): BertAttention(\n",
              "            (self): BertSelfAttention(\n",
              "              (query): Linear(in_features=768, out_features=768, bias=True)\n",
              "              (key): Linear(in_features=768, out_features=768, bias=True)\n",
              "              (value): Linear(in_features=768, out_features=768, bias=True)\n",
              "              (dropout): Dropout(p=0.1, inplace=False)\n",
              "            )\n",
              "            (output): BertSelfOutput(\n",
              "              (dense): Linear(in_features=768, out_features=768, bias=True)\n",
              "              (LayerNorm): LayerNorm((768,), eps=1e-12, elementwise_affine=True)\n",
              "              (dropout): Dropout(p=0.1, inplace=False)\n",
              "            )\n",
              "          )\n",
              "          (intermediate): BertIntermediate(\n",
              "            (dense): Linear(in_features=768, out_features=3072, bias=True)\n",
              "          )\n",
              "          (output): BertOutput(\n",
              "            (dense): Linear(in_features=3072, out_features=768, bias=True)\n",
              "            (LayerNorm): LayerNorm((768,), eps=1e-12, elementwise_affine=True)\n",
              "            (dropout): Dropout(p=0.1, inplace=False)\n",
              "          )\n",
              "        )\n",
              "        (8): BertLayer(\n",
              "          (attention): BertAttention(\n",
              "            (self): BertSelfAttention(\n",
              "              (query): Linear(in_features=768, out_features=768, bias=True)\n",
              "              (key): Linear(in_features=768, out_features=768, bias=True)\n",
              "              (value): Linear(in_features=768, out_features=768, bias=True)\n",
              "              (dropout): Dropout(p=0.1, inplace=False)\n",
              "            )\n",
              "            (output): BertSelfOutput(\n",
              "              (dense): Linear(in_features=768, out_features=768, bias=True)\n",
              "              (LayerNorm): LayerNorm((768,), eps=1e-12, elementwise_affine=True)\n",
              "              (dropout): Dropout(p=0.1, inplace=False)\n",
              "            )\n",
              "          )\n",
              "          (intermediate): BertIntermediate(\n",
              "            (dense): Linear(in_features=768, out_features=3072, bias=True)\n",
              "          )\n",
              "          (output): BertOutput(\n",
              "            (dense): Linear(in_features=3072, out_features=768, bias=True)\n",
              "            (LayerNorm): LayerNorm((768,), eps=1e-12, elementwise_affine=True)\n",
              "            (dropout): Dropout(p=0.1, inplace=False)\n",
              "          )\n",
              "        )\n",
              "        (9): BertLayer(\n",
              "          (attention): BertAttention(\n",
              "            (self): BertSelfAttention(\n",
              "              (query): Linear(in_features=768, out_features=768, bias=True)\n",
              "              (key): Linear(in_features=768, out_features=768, bias=True)\n",
              "              (value): Linear(in_features=768, out_features=768, bias=True)\n",
              "              (dropout): Dropout(p=0.1, inplace=False)\n",
              "            )\n",
              "            (output): BertSelfOutput(\n",
              "              (dense): Linear(in_features=768, out_features=768, bias=True)\n",
              "              (LayerNorm): LayerNorm((768,), eps=1e-12, elementwise_affine=True)\n",
              "              (dropout): Dropout(p=0.1, inplace=False)\n",
              "            )\n",
              "          )\n",
              "          (intermediate): BertIntermediate(\n",
              "            (dense): Linear(in_features=768, out_features=3072, bias=True)\n",
              "          )\n",
              "          (output): BertOutput(\n",
              "            (dense): Linear(in_features=3072, out_features=768, bias=True)\n",
              "            (LayerNorm): LayerNorm((768,), eps=1e-12, elementwise_affine=True)\n",
              "            (dropout): Dropout(p=0.1, inplace=False)\n",
              "          )\n",
              "        )\n",
              "        (10): BertLayer(\n",
              "          (attention): BertAttention(\n",
              "            (self): BertSelfAttention(\n",
              "              (query): Linear(in_features=768, out_features=768, bias=True)\n",
              "              (key): Linear(in_features=768, out_features=768, bias=True)\n",
              "              (value): Linear(in_features=768, out_features=768, bias=True)\n",
              "              (dropout): Dropout(p=0.1, inplace=False)\n",
              "            )\n",
              "            (output): BertSelfOutput(\n",
              "              (dense): Linear(in_features=768, out_features=768, bias=True)\n",
              "              (LayerNorm): LayerNorm((768,), eps=1e-12, elementwise_affine=True)\n",
              "              (dropout): Dropout(p=0.1, inplace=False)\n",
              "            )\n",
              "          )\n",
              "          (intermediate): BertIntermediate(\n",
              "            (dense): Linear(in_features=768, out_features=3072, bias=True)\n",
              "          )\n",
              "          (output): BertOutput(\n",
              "            (dense): Linear(in_features=3072, out_features=768, bias=True)\n",
              "            (LayerNorm): LayerNorm((768,), eps=1e-12, elementwise_affine=True)\n",
              "            (dropout): Dropout(p=0.1, inplace=False)\n",
              "          )\n",
              "        )\n",
              "        (11): BertLayer(\n",
              "          (attention): BertAttention(\n",
              "            (self): BertSelfAttention(\n",
              "              (query): Linear(in_features=768, out_features=768, bias=True)\n",
              "              (key): Linear(in_features=768, out_features=768, bias=True)\n",
              "              (value): Linear(in_features=768, out_features=768, bias=True)\n",
              "              (dropout): Dropout(p=0.1, inplace=False)\n",
              "            )\n",
              "            (output): BertSelfOutput(\n",
              "              (dense): Linear(in_features=768, out_features=768, bias=True)\n",
              "              (LayerNorm): LayerNorm((768,), eps=1e-12, elementwise_affine=True)\n",
              "              (dropout): Dropout(p=0.1, inplace=False)\n",
              "            )\n",
              "          )\n",
              "          (intermediate): BertIntermediate(\n",
              "            (dense): Linear(in_features=768, out_features=3072, bias=True)\n",
              "          )\n",
              "          (output): BertOutput(\n",
              "            (dense): Linear(in_features=3072, out_features=768, bias=True)\n",
              "            (LayerNorm): LayerNorm((768,), eps=1e-12, elementwise_affine=True)\n",
              "            (dropout): Dropout(p=0.1, inplace=False)\n",
              "          )\n",
              "        )\n",
              "      )\n",
              "    )\n",
              "    (pooler): BertPooler(\n",
              "      (dense): Linear(in_features=768, out_features=768, bias=True)\n",
              "      (activation): Tanh()\n",
              "    )\n",
              "  )\n",
              "  (dropout): Dropout(p=0.1, inplace=False)\n",
              "  (classifier): Linear(in_features=768, out_features=2, bias=True)\n",
              ")"
            ]
          },
          "metadata": {
            "tags": []
          },
          "execution_count": 17
        }
      ]
    },
    {
      "cell_type": "code",
      "metadata": {
        "id": "BfA_qa_T30H8",
        "colab_type": "code",
        "colab": {}
      },
      "source": [
        "# Note: AdamW is a class from the huggingface library (as opposed to pytorch) \n",
        "# I believe the 'W' stands for 'Weight Decay fix\"\n",
        "optimizer = AdamW(model.parameters(),\n",
        "                  lr = 2e-5, # args.learning_rate - default is 5e-5, our notebook had 2e-5\n",
        "                  eps = 1e-8 # args.adam_epsilon  - default is 1e-8.\n",
        "                )"
      ],
      "execution_count": 0,
      "outputs": []
    },
    {
      "cell_type": "code",
      "metadata": {
        "id": "M4zUVZBb33wM",
        "colab_type": "code",
        "colab": {}
      },
      "source": [
        "from transformers import get_linear_schedule_with_warmup\n",
        "\n",
        "# Number of training epochs. The BERT authors recommend between 2 and 4. \n",
        "# We chose to run for 4, but we'll see later that this may be over-fitting the\n",
        "# training data.\n",
        "epochs = 4\n",
        "\n",
        "# Total number of training steps is [number of batches] x [number of epochs]. \n",
        "# (Note that this is not the same as the number of training samples).\n",
        "total_steps = len(train_dataloader) * epochs\n",
        "\n",
        "# Create the learning rate scheduler.\n",
        "scheduler = get_linear_schedule_with_warmup(optimizer, \n",
        "                                            num_warmup_steps = 0, # Default value in run_glue.py\n",
        "                                            num_training_steps = total_steps)"
      ],
      "execution_count": 0,
      "outputs": []
    },
    {
      "cell_type": "code",
      "metadata": {
        "id": "7NU1EWRQ39dS",
        "colab_type": "code",
        "colab": {}
      },
      "source": [
        "import time\n",
        "import datetime\n",
        "\n",
        "\n",
        "# Function to calculate the accuracy of our predictions vs labels\n",
        "def flat_accuracy(preds, labels):\n",
        "    pred_flat = np.argmax(preds, axis=1).flatten()\n",
        "    labels_flat = labels.flatten()\n",
        "    return np.sum(pred_flat == labels_flat) / len(labels_flat)\n",
        "\n",
        "def format_time(elapsed):\n",
        "    '''\n",
        "    Takes a time in seconds and returns a string hh:mm:ss\n",
        "    '''\n",
        "    # Round to the nearest second.\n",
        "    elapsed_rounded = int(round((elapsed)))\n",
        "    \n",
        "\n",
        "\n",
        "    # Format as hh:mm:ss\n",
        "    return str(datetime.timedelta(seconds=elapsed_rounded))"
      ],
      "execution_count": 0,
      "outputs": []
    },
    {
      "cell_type": "code",
      "metadata": {
        "id": "K5KHrQX74A3L",
        "colab_type": "code",
        "outputId": "9b900353-a4cc-4fc8-acf9-00ecba2c148a",
        "colab": {
          "base_uri": "https://localhost:8080/",
          "height": 1000
        }
      },
      "source": [
        "import random\n",
        "\n",
        "# This training code is based on the `run_glue.py` script here:\n",
        "# https://github.com/huggingface/transformers/blob/5bfcd0485ece086ebcbed2d008813037968a9e58/examples/run_glue.py#L128\n",
        "\n",
        "# Set the seed value all over the place to make this reproducible.\n",
        "seed_val = 42\n",
        "\n",
        "random.seed(seed_val)\n",
        "np.random.seed(seed_val)\n",
        "torch.manual_seed(seed_val)\n",
        "torch.cuda.manual_seed_all(seed_val)\n",
        "\n",
        "# We'll store a number of quantities such as training and validation loss, \n",
        "# validation accuracy, and timings.\n",
        "training_stats = []\n",
        "\n",
        "# Measure the total training time for the whole run.\n",
        "total_t0 = time.time()\n",
        "\n",
        "# For each epoch...\n",
        "for epoch_i in range(0, epochs):\n",
        "    \n",
        "    # ========================================\n",
        "    #               Training\n",
        "    # ========================================\n",
        "    \n",
        "    # Perform one full pass over the training set.\n",
        "\n",
        "    print(\"\")\n",
        "    print('======== Epoch {:} / {:} ========'.format(epoch_i + 1, epochs))\n",
        "    print('Training...')\n",
        "\n",
        "    # Measure how long the training epoch takes.\n",
        "    t0 = time.time()\n",
        "\n",
        "    # Reset the total loss for this epoch.\n",
        "    total_train_loss = 0\n",
        "\n",
        "    # Put the model into training mode. Don't be mislead--the call to \n",
        "    # `train` just changes the *mode*, it doesn't *perform* the training.\n",
        "    # `dropout` and `batchnorm` layers behave differently during training\n",
        "    # vs. test (source: https://stackoverflow.com/questions/51433378/what-does-model-train-do-in-pytorch)\n",
        "    model.train()\n",
        "\n",
        "    # For each batch of training data...\n",
        "    for step, batch in enumerate(train_dataloader):\n",
        "\n",
        "        # Progress update every 40 batches.\n",
        "        if step % 40 == 0 and not step == 0:\n",
        "            # Calculate elapsed time in minutes.\n",
        "            elapsed = format_time(time.time() - t0)\n",
        "            \n",
        "            # Report progress.\n",
        "            print('  Batch {:>5,}  of  {:>5,}.    Elapsed: {:}.'.format(step, len(train_dataloader), elapsed))\n",
        "\n",
        "        # Unpack this training batch from our dataloader. \n",
        "        #\n",
        "        # As we unpack the batch, we'll also copy each tensor to the GPU using the \n",
        "        # `to` method.\n",
        "        #\n",
        "        # `batch` contains three pytorch tensors:\n",
        "        #   [0]: input ids \n",
        "        #   [1]: attention masks\n",
        "        #   [2]: labels \n",
        "        b_input_ids = batch[0].to(device)\n",
        "        b_input_mask = batch[1].to(device)\n",
        "        b_labels = batch[2].to(device)\n",
        "\n",
        "        # Always clear any previously calculated gradients before performing a\n",
        "        # backward pass. PyTorch doesn't do this automatically because \n",
        "        # accumulating the gradients is \"convenient while training RNNs\". \n",
        "        # (source: https://stackoverflow.com/questions/48001598/why-do-we-need-to-call-zero-grad-in-pytorch)\n",
        "        model.zero_grad()        \n",
        "\n",
        "        # Perform a forward pass (evaluate the model on this training batch).\n",
        "        # The documentation for this `model` function is here: \n",
        "        # https://huggingface.co/transformers/v2.2.0/model_doc/bert.html#transformers.BertForSequenceClassification\n",
        "        # It returns different numbers of parameters depending on what arguments\n",
        "        # arge given and what flags are set. For our useage here, it returns\n",
        "        # the loss (because we provided labels) and the \"logits\"--the model\n",
        "        # outputs prior to activation.\n",
        "        loss, logits = model(b_input_ids, \n",
        "                             token_type_ids=None, \n",
        "                             attention_mask=b_input_mask, \n",
        "                             labels=b_labels)\n",
        "\n",
        "        # Accumulate the training loss over all of the batches so that we can\n",
        "        # calculate the average loss at the end. `loss` is a Tensor containing a\n",
        "        # single value; the `.item()` function just returns the Python value \n",
        "        # from the tensor.\n",
        "        total_train_loss += loss.item()\n",
        "\n",
        "        # Perform a backward pass to calculate the gradients.\n",
        "        loss.backward()\n",
        "\n",
        "        # Clip the norm of the gradients to 1.0.\n",
        "        # This is to help prevent the \"exploding gradients\" problem.\n",
        "        torch.nn.utils.clip_grad_norm_(model.parameters(), 1.0)\n",
        "\n",
        "        # Update parameters and take a step using the computed gradient.\n",
        "        # The optimizer dictates the \"update rule\"--how the parameters are\n",
        "        # modified based on their gradients, the learning rate, etc.\n",
        "        optimizer.step()\n",
        "\n",
        "        # Update the learning rate.\n",
        "        scheduler.step()\n",
        "\n",
        "    # Calculate the average loss over all of the batches.\n",
        "    avg_train_loss = total_train_loss / len(train_dataloader)            \n",
        "    \n",
        "    # Measure how long this epoch took.\n",
        "    training_time = format_time(time.time() - t0)\n",
        "\n",
        "    print(\"\")\n",
        "    print(\"  Average training loss: {0:.2f}\".format(avg_train_loss))\n",
        "    print(\"  Training epcoh took: {:}\".format(training_time))\n",
        "        \n",
        "    # ========================================\n",
        "    #               Validation\n",
        "    # ========================================\n",
        "    # After the completion of each training epoch, measure our performance on\n",
        "    # our validation set.\n",
        "\n",
        "    print(\"\")\n",
        "    print(\"Running Validation...\")\n",
        "\n",
        "    t0 = time.time()\n",
        "\n",
        "    # Put the model in evaluation mode--the dropout layers behave differently\n",
        "    # during evaluation.\n",
        "    model.eval()\n",
        "\n",
        "    # Tracking variables \n",
        "    total_eval_accuracy = 0\n",
        "    total_eval_loss = 0\n",
        "    nb_eval_steps = 0\n",
        "\n",
        "    # Evaluate data for one epoch\n",
        "    for batch in validation_dataloader:\n",
        "        \n",
        "        # Unpack this training batch from our dataloader. \n",
        "        #\n",
        "        # As we unpack the batch, we'll also copy each tensor to the GPU using \n",
        "        # the `to` method.\n",
        "        #\n",
        "        # `batch` contains three pytorch tensors:\n",
        "        #   [0]: input ids \n",
        "        #   [1]: attention masks\n",
        "        #   [2]: labels \n",
        "        b_input_ids = batch[0].to(device)\n",
        "        b_input_mask = batch[1].to(device)\n",
        "        b_labels = batch[2].to(device)\n",
        "        \n",
        "        # Tell pytorch not to bother with constructing the compute graph during\n",
        "        # the forward pass, since this is only needed for backprop (training).\n",
        "        with torch.no_grad():        \n",
        "\n",
        "            # Forward pass, calculate logit predictions.\n",
        "            # token_type_ids is the same as the \"segment ids\", which \n",
        "            # differentiates sentence 1 and 2 in 2-sentence tasks.\n",
        "            # The documentation for this `model` function is here: \n",
        "            # https://huggingface.co/transformers/v2.2.0/model_doc/bert.html#transformers.BertForSequenceClassification\n",
        "            # Get the \"logits\" output by the model. The \"logits\" are the output\n",
        "            # values prior to applying an activation function like the softmax.\n",
        "            (loss, logits) = model(b_input_ids, \n",
        "                                   token_type_ids=None, \n",
        "                                   attention_mask=b_input_mask,\n",
        "                                   labels=b_labels)\n",
        "            \n",
        "        # Accumulate the validation loss.\n",
        "        total_eval_loss += loss.item()\n",
        "\n",
        "        # Move logits and labels to CPU\n",
        "        logits = logits.detach().cpu().numpy()\n",
        "        label_ids = b_labels.to('cpu').numpy()\n",
        "\n",
        "        # Calculate the accuracy for this batch of test sentences, and\n",
        "        # accumulate it over all batches.\n",
        "        total_eval_accuracy += flat_accuracy(logits, label_ids)\n",
        "        \n",
        "\n",
        "    # Report the final accuracy for this validation run.\n",
        "    avg_val_accuracy = total_eval_accuracy / len(validation_dataloader)\n",
        "    print(\"  Accuracy: {0:.2f}\".format(avg_val_accuracy))\n",
        "\n",
        "    # Calculate the average loss over all of the batches.\n",
        "    avg_val_loss = total_eval_loss / len(validation_dataloader)\n",
        "    \n",
        "    # Measure how long the validation run took.\n",
        "    validation_time = format_time(time.time() - t0)\n",
        "    \n",
        "    print(\"  Validation Loss: {0:.2f}\".format(avg_val_loss))\n",
        "    print(\"  Validation took: {:}\".format(validation_time))\n",
        "\n",
        "    # Record all statistics from this epoch.\n",
        "    training_stats.append(\n",
        "        {\n",
        "            'epoch': epoch_i + 1,\n",
        "            'Training Loss': avg_train_loss,\n",
        "            'Valid. Loss': avg_val_loss,\n",
        "            'Valid. Accur.': avg_val_accuracy,\n",
        "            'Training Time': training_time,\n",
        "            'Validation Time': validation_time\n",
        "        }\n",
        "    )\n",
        "\n",
        "print(\"\")\n",
        "print(\"Training complete!\")\n",
        "\n",
        "print(\"Total training took {:} (h:mm:ss)\".format(format_time(time.time()-total_t0)))"
      ],
      "execution_count": 0,
      "outputs": [
        {
          "output_type": "stream",
          "text": [
            "\n",
            "======== Epoch 1 / 4 ========\n",
            "Training...\n",
            "  Batch    40  of  2,526.    Elapsed: 0:00:09.\n",
            "  Batch    80  of  2,526.    Elapsed: 0:00:18.\n",
            "  Batch   120  of  2,526.    Elapsed: 0:00:27.\n",
            "  Batch   160  of  2,526.    Elapsed: 0:00:36.\n",
            "  Batch   200  of  2,526.    Elapsed: 0:00:45.\n",
            "  Batch   240  of  2,526.    Elapsed: 0:00:54.\n",
            "  Batch   280  of  2,526.    Elapsed: 0:01:03.\n",
            "  Batch   320  of  2,526.    Elapsed: 0:01:12.\n",
            "  Batch   360  of  2,526.    Elapsed: 0:01:21.\n",
            "  Batch   400  of  2,526.    Elapsed: 0:01:31.\n",
            "  Batch   440  of  2,526.    Elapsed: 0:01:40.\n",
            "  Batch   480  of  2,526.    Elapsed: 0:01:49.\n",
            "  Batch   520  of  2,526.    Elapsed: 0:01:58.\n",
            "  Batch   560  of  2,526.    Elapsed: 0:02:07.\n",
            "  Batch   600  of  2,526.    Elapsed: 0:02:16.\n",
            "  Batch   640  of  2,526.    Elapsed: 0:02:25.\n",
            "  Batch   680  of  2,526.    Elapsed: 0:02:34.\n",
            "  Batch   720  of  2,526.    Elapsed: 0:02:43.\n",
            "  Batch   760  of  2,526.    Elapsed: 0:02:52.\n",
            "  Batch   800  of  2,526.    Elapsed: 0:03:01.\n",
            "  Batch   840  of  2,526.    Elapsed: 0:03:10.\n",
            "  Batch   880  of  2,526.    Elapsed: 0:03:19.\n",
            "  Batch   920  of  2,526.    Elapsed: 0:03:28.\n",
            "  Batch   960  of  2,526.    Elapsed: 0:03:37.\n",
            "  Batch 1,000  of  2,526.    Elapsed: 0:03:46.\n",
            "  Batch 1,040  of  2,526.    Elapsed: 0:03:55.\n",
            "  Batch 1,080  of  2,526.    Elapsed: 0:04:04.\n",
            "  Batch 1,120  of  2,526.    Elapsed: 0:04:13.\n",
            "  Batch 1,160  of  2,526.    Elapsed: 0:04:22.\n",
            "  Batch 1,200  of  2,526.    Elapsed: 0:04:31.\n",
            "  Batch 1,240  of  2,526.    Elapsed: 0:04:40.\n",
            "  Batch 1,280  of  2,526.    Elapsed: 0:04:49.\n",
            "  Batch 1,320  of  2,526.    Elapsed: 0:04:58.\n",
            "  Batch 1,360  of  2,526.    Elapsed: 0:05:07.\n",
            "  Batch 1,400  of  2,526.    Elapsed: 0:05:16.\n",
            "  Batch 1,440  of  2,526.    Elapsed: 0:05:25.\n",
            "  Batch 1,480  of  2,526.    Elapsed: 0:05:34.\n",
            "  Batch 1,520  of  2,526.    Elapsed: 0:05:43.\n",
            "  Batch 1,560  of  2,526.    Elapsed: 0:05:52.\n",
            "  Batch 1,600  of  2,526.    Elapsed: 0:06:01.\n",
            "  Batch 1,640  of  2,526.    Elapsed: 0:06:10.\n",
            "  Batch 1,680  of  2,526.    Elapsed: 0:06:19.\n",
            "  Batch 1,720  of  2,526.    Elapsed: 0:06:28.\n",
            "  Batch 1,760  of  2,526.    Elapsed: 0:06:37.\n",
            "  Batch 1,800  of  2,526.    Elapsed: 0:06:46.\n",
            "  Batch 1,840  of  2,526.    Elapsed: 0:06:55.\n",
            "  Batch 1,880  of  2,526.    Elapsed: 0:07:04.\n",
            "  Batch 1,920  of  2,526.    Elapsed: 0:07:13.\n",
            "  Batch 1,960  of  2,526.    Elapsed: 0:07:22.\n",
            "  Batch 2,000  of  2,526.    Elapsed: 0:07:31.\n",
            "  Batch 2,040  of  2,526.    Elapsed: 0:07:41.\n",
            "  Batch 2,080  of  2,526.    Elapsed: 0:07:50.\n",
            "  Batch 2,120  of  2,526.    Elapsed: 0:07:59.\n",
            "  Batch 2,160  of  2,526.    Elapsed: 0:08:08.\n",
            "  Batch 2,200  of  2,526.    Elapsed: 0:08:17.\n",
            "  Batch 2,240  of  2,526.    Elapsed: 0:08:26.\n",
            "  Batch 2,280  of  2,526.    Elapsed: 0:08:35.\n",
            "  Batch 2,320  of  2,526.    Elapsed: 0:08:44.\n",
            "  Batch 2,360  of  2,526.    Elapsed: 0:08:53.\n",
            "  Batch 2,400  of  2,526.    Elapsed: 0:09:02.\n",
            "  Batch 2,440  of  2,526.    Elapsed: 0:09:11.\n",
            "  Batch 2,480  of  2,526.    Elapsed: 0:09:20.\n",
            "  Batch 2,520  of  2,526.    Elapsed: 0:09:29.\n",
            "\n",
            "  Average training loss: 0.00\n",
            "  Training epcoh took: 0:09:30\n",
            "\n",
            "Running Validation...\n",
            "  Accuracy: 1.00\n",
            "  Validation Loss: 0.01\n",
            "  Validation took: 0:00:17\n",
            "\n",
            "======== Epoch 2 / 4 ========\n",
            "Training...\n",
            "  Batch    40  of  2,526.    Elapsed: 0:00:09.\n",
            "  Batch    80  of  2,526.    Elapsed: 0:00:18.\n",
            "  Batch   120  of  2,526.    Elapsed: 0:00:27.\n",
            "  Batch   160  of  2,526.    Elapsed: 0:00:36.\n",
            "  Batch   200  of  2,526.    Elapsed: 0:00:45.\n",
            "  Batch   240  of  2,526.    Elapsed: 0:00:54.\n",
            "  Batch   280  of  2,526.    Elapsed: 0:01:03.\n",
            "  Batch   320  of  2,526.    Elapsed: 0:01:12.\n",
            "  Batch   360  of  2,526.    Elapsed: 0:01:21.\n",
            "  Batch   400  of  2,526.    Elapsed: 0:01:30.\n",
            "  Batch   440  of  2,526.    Elapsed: 0:01:39.\n",
            "  Batch   480  of  2,526.    Elapsed: 0:01:48.\n",
            "  Batch   520  of  2,526.    Elapsed: 0:01:57.\n",
            "  Batch   560  of  2,526.    Elapsed: 0:02:06.\n",
            "  Batch   600  of  2,526.    Elapsed: 0:02:15.\n",
            "  Batch   640  of  2,526.    Elapsed: 0:02:24.\n",
            "  Batch   680  of  2,526.    Elapsed: 0:02:33.\n",
            "  Batch   720  of  2,526.    Elapsed: 0:02:42.\n",
            "  Batch   760  of  2,526.    Elapsed: 0:02:51.\n",
            "  Batch   800  of  2,526.    Elapsed: 0:03:00.\n",
            "  Batch   840  of  2,526.    Elapsed: 0:03:09.\n",
            "  Batch   880  of  2,526.    Elapsed: 0:03:18.\n",
            "  Batch   920  of  2,526.    Elapsed: 0:03:27.\n",
            "  Batch   960  of  2,526.    Elapsed: 0:03:37.\n",
            "  Batch 1,000  of  2,526.    Elapsed: 0:03:46.\n",
            "  Batch 1,040  of  2,526.    Elapsed: 0:03:55.\n",
            "  Batch 1,080  of  2,526.    Elapsed: 0:04:04.\n",
            "  Batch 1,120  of  2,526.    Elapsed: 0:04:13.\n",
            "  Batch 1,160  of  2,526.    Elapsed: 0:04:22.\n",
            "  Batch 1,200  of  2,526.    Elapsed: 0:04:31.\n",
            "  Batch 1,240  of  2,526.    Elapsed: 0:04:40.\n",
            "  Batch 1,280  of  2,526.    Elapsed: 0:04:49.\n",
            "  Batch 1,320  of  2,526.    Elapsed: 0:04:58.\n",
            "  Batch 1,360  of  2,526.    Elapsed: 0:05:07.\n",
            "  Batch 1,400  of  2,526.    Elapsed: 0:05:16.\n",
            "  Batch 1,440  of  2,526.    Elapsed: 0:05:25.\n",
            "  Batch 1,480  of  2,526.    Elapsed: 0:05:34.\n",
            "  Batch 1,520  of  2,526.    Elapsed: 0:05:43.\n",
            "  Batch 1,560  of  2,526.    Elapsed: 0:05:52.\n",
            "  Batch 1,600  of  2,526.    Elapsed: 0:06:01.\n",
            "  Batch 1,640  of  2,526.    Elapsed: 0:06:10.\n",
            "  Batch 1,680  of  2,526.    Elapsed: 0:06:19.\n",
            "  Batch 1,720  of  2,526.    Elapsed: 0:06:28.\n",
            "  Batch 1,760  of  2,526.    Elapsed: 0:06:37.\n",
            "  Batch 1,800  of  2,526.    Elapsed: 0:06:46.\n",
            "  Batch 1,840  of  2,526.    Elapsed: 0:06:55.\n",
            "  Batch 1,880  of  2,526.    Elapsed: 0:07:04.\n",
            "  Batch 1,920  of  2,526.    Elapsed: 0:07:13.\n",
            "  Batch 1,960  of  2,526.    Elapsed: 0:07:22.\n",
            "  Batch 2,000  of  2,526.    Elapsed: 0:07:31.\n",
            "  Batch 2,040  of  2,526.    Elapsed: 0:07:40.\n",
            "  Batch 2,080  of  2,526.    Elapsed: 0:07:49.\n",
            "  Batch 2,120  of  2,526.    Elapsed: 0:07:58.\n",
            "  Batch 2,160  of  2,526.    Elapsed: 0:08:07.\n",
            "  Batch 2,200  of  2,526.    Elapsed: 0:08:16.\n",
            "  Batch 2,240  of  2,526.    Elapsed: 0:08:25.\n",
            "  Batch 2,280  of  2,526.    Elapsed: 0:08:34.\n",
            "  Batch 2,320  of  2,526.    Elapsed: 0:08:43.\n",
            "  Batch 2,360  of  2,526.    Elapsed: 0:08:52.\n",
            "  Batch 2,400  of  2,526.    Elapsed: 0:09:01.\n",
            "  Batch 2,440  of  2,526.    Elapsed: 0:09:10.\n",
            "  Batch 2,480  of  2,526.    Elapsed: 0:09:19.\n",
            "  Batch 2,520  of  2,526.    Elapsed: 0:09:28.\n",
            "\n",
            "  Average training loss: 0.00\n",
            "  Training epcoh took: 0:09:30\n",
            "\n",
            "Running Validation...\n",
            "  Accuracy: 1.00\n",
            "  Validation Loss: 0.01\n",
            "  Validation took: 0:00:17\n",
            "\n",
            "======== Epoch 3 / 4 ========\n",
            "Training...\n",
            "  Batch    40  of  2,526.    Elapsed: 0:00:09.\n",
            "  Batch    80  of  2,526.    Elapsed: 0:00:18.\n",
            "  Batch   120  of  2,526.    Elapsed: 0:00:27.\n",
            "  Batch   160  of  2,526.    Elapsed: 0:00:36.\n",
            "  Batch   200  of  2,526.    Elapsed: 0:00:45.\n",
            "  Batch   240  of  2,526.    Elapsed: 0:00:54.\n",
            "  Batch   280  of  2,526.    Elapsed: 0:01:03.\n",
            "  Batch   320  of  2,526.    Elapsed: 0:01:12.\n",
            "  Batch   360  of  2,526.    Elapsed: 0:01:21.\n",
            "  Batch   400  of  2,526.    Elapsed: 0:01:30.\n",
            "  Batch   440  of  2,526.    Elapsed: 0:01:39.\n",
            "  Batch   480  of  2,526.    Elapsed: 0:01:48.\n",
            "  Batch   520  of  2,526.    Elapsed: 0:01:57.\n",
            "  Batch   560  of  2,526.    Elapsed: 0:02:06.\n",
            "  Batch   600  of  2,526.    Elapsed: 0:02:15.\n",
            "  Batch   640  of  2,526.    Elapsed: 0:02:24.\n",
            "  Batch   680  of  2,526.    Elapsed: 0:02:33.\n",
            "  Batch   720  of  2,526.    Elapsed: 0:02:42.\n",
            "  Batch   760  of  2,526.    Elapsed: 0:02:51.\n",
            "  Batch   800  of  2,526.    Elapsed: 0:03:00.\n",
            "  Batch   840  of  2,526.    Elapsed: 0:03:09.\n",
            "  Batch   880  of  2,526.    Elapsed: 0:03:18.\n",
            "  Batch   920  of  2,526.    Elapsed: 0:03:27.\n",
            "  Batch   960  of  2,526.    Elapsed: 0:03:36.\n",
            "  Batch 1,000  of  2,526.    Elapsed: 0:03:45.\n",
            "  Batch 1,040  of  2,526.    Elapsed: 0:03:55.\n",
            "  Batch 1,080  of  2,526.    Elapsed: 0:04:04.\n",
            "  Batch 1,120  of  2,526.    Elapsed: 0:04:13.\n",
            "  Batch 1,160  of  2,526.    Elapsed: 0:04:22.\n",
            "  Batch 1,200  of  2,526.    Elapsed: 0:04:31.\n",
            "  Batch 1,240  of  2,526.    Elapsed: 0:04:40.\n",
            "  Batch 1,280  of  2,526.    Elapsed: 0:04:49.\n",
            "  Batch 1,320  of  2,526.    Elapsed: 0:04:58.\n",
            "  Batch 1,360  of  2,526.    Elapsed: 0:05:07.\n",
            "  Batch 1,400  of  2,526.    Elapsed: 0:05:16.\n",
            "  Batch 1,440  of  2,526.    Elapsed: 0:05:25.\n",
            "  Batch 1,480  of  2,526.    Elapsed: 0:05:34.\n",
            "  Batch 1,520  of  2,526.    Elapsed: 0:05:43.\n",
            "  Batch 1,560  of  2,526.    Elapsed: 0:05:52.\n",
            "  Batch 1,600  of  2,526.    Elapsed: 0:06:01.\n",
            "  Batch 1,640  of  2,526.    Elapsed: 0:06:10.\n",
            "  Batch 1,680  of  2,526.    Elapsed: 0:06:19.\n",
            "  Batch 1,720  of  2,526.    Elapsed: 0:06:28.\n",
            "  Batch 1,760  of  2,526.    Elapsed: 0:06:37.\n",
            "  Batch 1,800  of  2,526.    Elapsed: 0:06:46.\n",
            "  Batch 1,840  of  2,526.    Elapsed: 0:06:55.\n",
            "  Batch 1,880  of  2,526.    Elapsed: 0:07:04.\n",
            "  Batch 1,920  of  2,526.    Elapsed: 0:07:13.\n",
            "  Batch 1,960  of  2,526.    Elapsed: 0:07:22.\n",
            "  Batch 2,000  of  2,526.    Elapsed: 0:07:31.\n",
            "  Batch 2,040  of  2,526.    Elapsed: 0:07:40.\n",
            "  Batch 2,080  of  2,526.    Elapsed: 0:07:49.\n",
            "  Batch 2,120  of  2,526.    Elapsed: 0:07:58.\n",
            "  Batch 2,160  of  2,526.    Elapsed: 0:08:07.\n",
            "  Batch 2,200  of  2,526.    Elapsed: 0:08:16.\n",
            "  Batch 2,240  of  2,526.    Elapsed: 0:08:25.\n",
            "  Batch 2,280  of  2,526.    Elapsed: 0:08:34.\n",
            "  Batch 2,320  of  2,526.    Elapsed: 0:08:43.\n",
            "  Batch 2,360  of  2,526.    Elapsed: 0:08:52.\n",
            "  Batch 2,400  of  2,526.    Elapsed: 0:09:01.\n",
            "  Batch 2,440  of  2,526.    Elapsed: 0:09:10.\n",
            "  Batch 2,480  of  2,526.    Elapsed: 0:09:19.\n",
            "  Batch 2,520  of  2,526.    Elapsed: 0:09:28.\n",
            "\n",
            "  Average training loss: 0.00\n",
            "  Training epcoh took: 0:09:30\n",
            "\n",
            "Running Validation...\n",
            "  Accuracy: 1.00\n",
            "  Validation Loss: 0.02\n",
            "  Validation took: 0:00:17\n",
            "\n",
            "======== Epoch 4 / 4 ========\n",
            "Training...\n",
            "  Batch    40  of  2,526.    Elapsed: 0:00:09.\n",
            "  Batch    80  of  2,526.    Elapsed: 0:00:18.\n",
            "  Batch   120  of  2,526.    Elapsed: 0:00:27.\n",
            "  Batch   160  of  2,526.    Elapsed: 0:00:36.\n",
            "  Batch   200  of  2,526.    Elapsed: 0:00:45.\n",
            "  Batch   240  of  2,526.    Elapsed: 0:00:54.\n",
            "  Batch   280  of  2,526.    Elapsed: 0:01:03.\n",
            "  Batch   320  of  2,526.    Elapsed: 0:01:12.\n",
            "  Batch   360  of  2,526.    Elapsed: 0:01:21.\n",
            "  Batch   400  of  2,526.    Elapsed: 0:01:30.\n",
            "  Batch   440  of  2,526.    Elapsed: 0:01:39.\n",
            "  Batch   480  of  2,526.    Elapsed: 0:01:48.\n",
            "  Batch   520  of  2,526.    Elapsed: 0:01:57.\n",
            "  Batch   560  of  2,526.    Elapsed: 0:02:06.\n",
            "  Batch   600  of  2,526.    Elapsed: 0:02:15.\n",
            "  Batch   640  of  2,526.    Elapsed: 0:02:24.\n",
            "  Batch   680  of  2,526.    Elapsed: 0:02:33.\n",
            "  Batch   720  of  2,526.    Elapsed: 0:02:42.\n",
            "  Batch   760  of  2,526.    Elapsed: 0:02:51.\n",
            "  Batch   800  of  2,526.    Elapsed: 0:03:00.\n",
            "  Batch   840  of  2,526.    Elapsed: 0:03:09.\n",
            "  Batch   880  of  2,526.    Elapsed: 0:03:18.\n",
            "  Batch   920  of  2,526.    Elapsed: 0:03:27.\n",
            "  Batch   960  of  2,526.    Elapsed: 0:03:36.\n",
            "  Batch 1,000  of  2,526.    Elapsed: 0:03:45.\n",
            "  Batch 1,040  of  2,526.    Elapsed: 0:03:55.\n",
            "  Batch 1,080  of  2,526.    Elapsed: 0:04:04.\n",
            "  Batch 1,120  of  2,526.    Elapsed: 0:04:13.\n",
            "  Batch 1,160  of  2,526.    Elapsed: 0:04:22.\n",
            "  Batch 1,200  of  2,526.    Elapsed: 0:04:31.\n",
            "  Batch 1,240  of  2,526.    Elapsed: 0:04:40.\n",
            "  Batch 1,280  of  2,526.    Elapsed: 0:04:49.\n",
            "  Batch 1,320  of  2,526.    Elapsed: 0:04:58.\n",
            "  Batch 1,360  of  2,526.    Elapsed: 0:05:07.\n",
            "  Batch 1,400  of  2,526.    Elapsed: 0:05:16.\n",
            "  Batch 1,440  of  2,526.    Elapsed: 0:05:25.\n",
            "  Batch 1,480  of  2,526.    Elapsed: 0:05:34.\n",
            "  Batch 1,520  of  2,526.    Elapsed: 0:05:43.\n",
            "  Batch 1,560  of  2,526.    Elapsed: 0:05:52.\n",
            "  Batch 1,600  of  2,526.    Elapsed: 0:06:01.\n",
            "  Batch 1,640  of  2,526.    Elapsed: 0:06:10.\n",
            "  Batch 1,680  of  2,526.    Elapsed: 0:06:19.\n",
            "  Batch 1,720  of  2,526.    Elapsed: 0:06:28.\n",
            "  Batch 1,760  of  2,526.    Elapsed: 0:06:37.\n",
            "  Batch 1,800  of  2,526.    Elapsed: 0:06:46.\n",
            "  Batch 1,840  of  2,526.    Elapsed: 0:06:55.\n",
            "  Batch 1,880  of  2,526.    Elapsed: 0:07:04.\n",
            "  Batch 1,920  of  2,526.    Elapsed: 0:07:13.\n",
            "  Batch 1,960  of  2,526.    Elapsed: 0:07:22.\n",
            "  Batch 2,000  of  2,526.    Elapsed: 0:07:31.\n",
            "  Batch 2,040  of  2,526.    Elapsed: 0:07:40.\n",
            "  Batch 2,080  of  2,526.    Elapsed: 0:07:49.\n",
            "  Batch 2,120  of  2,526.    Elapsed: 0:07:58.\n",
            "  Batch 2,160  of  2,526.    Elapsed: 0:08:07.\n",
            "  Batch 2,200  of  2,526.    Elapsed: 0:08:16.\n",
            "  Batch 2,240  of  2,526.    Elapsed: 0:08:25.\n",
            "  Batch 2,280  of  2,526.    Elapsed: 0:08:34.\n",
            "  Batch 2,320  of  2,526.    Elapsed: 0:08:43.\n",
            "  Batch 2,360  of  2,526.    Elapsed: 0:08:52.\n",
            "  Batch 2,400  of  2,526.    Elapsed: 0:09:01.\n",
            "  Batch 2,440  of  2,526.    Elapsed: 0:09:10.\n",
            "  Batch 2,480  of  2,526.    Elapsed: 0:09:19.\n",
            "  Batch 2,520  of  2,526.    Elapsed: 0:09:28.\n",
            "\n",
            "  Average training loss: 0.00\n",
            "  Training epcoh took: 0:09:30\n",
            "\n",
            "Running Validation...\n",
            "  Accuracy: 1.00\n",
            "  Validation Loss: 0.02\n",
            "  Validation took: 0:00:17\n",
            "\n",
            "Training complete!\n",
            "Total training took 0:39:05 (h:mm:ss)\n"
          ],
          "name": "stdout"
        }
      ]
    },
    {
      "cell_type": "code",
      "metadata": {
        "id": "olO3ql394FwH",
        "colab_type": "code",
        "outputId": "206b5232-94de-431e-8e4a-770032f40b12",
        "colab": {
          "base_uri": "https://localhost:8080/",
          "height": 204
        }
      },
      "source": [
        "import pandas as pd\n",
        "\n",
        "# Display floats with two decimal places.\n",
        "pd.set_option('precision', 2)\n",
        "\n",
        "# Create a DataFrame from our training statistics.\n",
        "df_stats = pd.DataFrame(data=training_stats)\n",
        "\n",
        "# Use the 'epoch' as the row index.\n",
        "df_stats = df_stats.set_index('epoch')\n",
        "\n",
        "# A hack to force the column headers to wrap.\n",
        "#df = df.style.set_table_styles([dict(selector=\"th\",props=[('max-width', '70px')])])\n",
        "\n",
        "# Display the table.\n",
        "df_stats"
      ],
      "execution_count": 0,
      "outputs": [
        {
          "output_type": "execute_result",
          "data": {
            "text/html": [
              "<div>\n",
              "<style scoped>\n",
              "    .dataframe tbody tr th:only-of-type {\n",
              "        vertical-align: middle;\n",
              "    }\n",
              "\n",
              "    .dataframe tbody tr th {\n",
              "        vertical-align: top;\n",
              "    }\n",
              "\n",
              "    .dataframe thead th {\n",
              "        text-align: right;\n",
              "    }\n",
              "</style>\n",
              "<table border=\"1\" class=\"dataframe\">\n",
              "  <thead>\n",
              "    <tr style=\"text-align: right;\">\n",
              "      <th></th>\n",
              "      <th>Training Loss</th>\n",
              "      <th>Valid. Loss</th>\n",
              "      <th>Valid. Accur.</th>\n",
              "      <th>Training Time</th>\n",
              "      <th>Validation Time</th>\n",
              "    </tr>\n",
              "    <tr>\n",
              "      <th>epoch</th>\n",
              "      <th></th>\n",
              "      <th></th>\n",
              "      <th></th>\n",
              "      <th></th>\n",
              "      <th></th>\n",
              "    </tr>\n",
              "  </thead>\n",
              "  <tbody>\n",
              "    <tr>\n",
              "      <th>1</th>\n",
              "      <td>2.98e-03</td>\n",
              "      <td>0.01</td>\n",
              "      <td>1.0</td>\n",
              "      <td>0:09:30</td>\n",
              "      <td>0:00:17</td>\n",
              "    </tr>\n",
              "    <tr>\n",
              "      <th>2</th>\n",
              "      <td>3.13e-03</td>\n",
              "      <td>0.01</td>\n",
              "      <td>1.0</td>\n",
              "      <td>0:09:30</td>\n",
              "      <td>0:00:17</td>\n",
              "    </tr>\n",
              "    <tr>\n",
              "      <th>3</th>\n",
              "      <td>3.91e-04</td>\n",
              "      <td>0.02</td>\n",
              "      <td>1.0</td>\n",
              "      <td>0:09:30</td>\n",
              "      <td>0:00:17</td>\n",
              "    </tr>\n",
              "    <tr>\n",
              "      <th>4</th>\n",
              "      <td>1.44e-04</td>\n",
              "      <td>0.02</td>\n",
              "      <td>1.0</td>\n",
              "      <td>0:09:30</td>\n",
              "      <td>0:00:17</td>\n",
              "    </tr>\n",
              "  </tbody>\n",
              "</table>\n",
              "</div>"
            ],
            "text/plain": [
              "       Training Loss  Valid. Loss  Valid. Accur. Training Time Validation Time\n",
              "epoch                                                                         \n",
              "1           2.98e-03         0.01            1.0       0:09:30         0:00:17\n",
              "2           3.13e-03         0.01            1.0       0:09:30         0:00:17\n",
              "3           3.91e-04         0.02            1.0       0:09:30         0:00:17\n",
              "4           1.44e-04         0.02            1.0       0:09:30         0:00:17"
            ]
          },
          "metadata": {
            "tags": []
          },
          "execution_count": 26
        }
      ]
    },
    {
      "cell_type": "code",
      "metadata": {
        "id": "LKa-01He7aJM",
        "colab_type": "code",
        "outputId": "fecdb2a1-0769-4cf2-933f-20327efe3e32",
        "colab": {
          "base_uri": "https://localhost:8080/",
          "height": 427
        }
      },
      "source": [
        "import matplotlib.pyplot as plt\n",
        "% matplotlib inline\n",
        "\n",
        "import seaborn as sns\n",
        "\n",
        "# Use plot styling from seaborn.\n",
        "sns.set(style='darkgrid')\n",
        "\n",
        "# Increase the plot size and font size.\n",
        "sns.set(font_scale=1.5)\n",
        "plt.rcParams[\"figure.figsize\"] = (12,6)\n",
        "\n",
        "# Plot the learning curve.\n",
        "plt.plot(df_stats['Training Loss'], 'b-o', label=\"Training\")\n",
        "plt.plot(df_stats['Valid. Loss'], 'g-o', label=\"Validation\")\n",
        "\n",
        "# Label the plot.\n",
        "plt.title(\"Training & Validation Loss\")\n",
        "plt.xlabel(\"Epoch\")\n",
        "plt.ylabel(\"Loss\")\n",
        "plt.legend()\n",
        "plt.xticks([1, 2, 3, 4])\n",
        "\n",
        "plt.show()"
      ],
      "execution_count": 0,
      "outputs": [
        {
          "output_type": "display_data",
          "data": {
            "image/png": "[encoded data removed]",
            "text/plain": [
              "<Figure size 864x432 with 1 Axes>"
            ]
          },
          "metadata": {
            "tags": []
          }
        }
      ]
    },
    {
      "cell_type": "code",
      "metadata": {
        "id": "wVdzbCACa6Wh",
        "colab_type": "code",
        "colab": {}
      },
      "source": [
        ""
      ],
      "execution_count": 0,
      "outputs": []
    }
  ]
}